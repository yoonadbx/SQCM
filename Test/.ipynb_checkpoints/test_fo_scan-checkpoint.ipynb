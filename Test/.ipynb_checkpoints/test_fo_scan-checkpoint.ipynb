{
 "cells": [
  {
   "cell_type": "markdown",
   "metadata": {},
   "source": [
    "# scan v.1.1 test"
   ]
  },
  {
   "cell_type": "code",
   "execution_count": 1,
   "metadata": {
    "ExecuteTime": {
     "end_time": "2023-09-26T12:26:16.231107Z",
     "start_time": "2023-09-26T12:26:15.542685Z"
    },
    "pycharm": {
     "is_executing": false
    }
   },
   "outputs": [],
   "source": [
    "import matplotlib\n",
    "import matplotlib.pyplot as plt\n",
    "%matplotlib inline\n",
    "%config InlineBackend.figure_format = 'svg'"
   ]
  },
  {
   "cell_type": "code",
   "execution_count": 2,
   "metadata": {
    "ExecuteTime": {
     "end_time": "2023-09-26T12:26:16.555034Z",
     "start_time": "2023-09-26T12:26:16.234258Z"
    },
    "pycharm": {
     "is_executing": false
    }
   },
   "outputs": [],
   "source": [
    "from qcodes.utils.validators import Numbers\n",
    "from qcodes.instrument import Parameter\n",
    "from tools import *\n",
    "from random import random\n",
    "import numpy as np"
   ]
  },
  {
   "cell_type": "code",
   "execution_count": 3,
   "metadata": {
    "ExecuteTime": {
     "end_time": "2023-09-26T12:26:16.570016Z",
     "start_time": "2023-09-26T12:26:16.561977Z"
    },
    "pycharm": {
     "is_executing": false,
     "name": "#%%\n"
    }
   },
   "outputs": [],
   "source": [
    "def dummyset(voltage):\n",
    "    return voltage\n",
    "\n",
    "\n",
    "def dummyget():\n",
    "    return random()\n"
   ]
  },
  {
   "cell_type": "code",
   "execution_count": 4,
   "metadata": {
    "ExecuteTime": {
     "end_time": "2023-09-26T12:26:17.994784Z",
     "start_time": "2023-09-26T12:26:17.979725Z"
    },
    "pycharm": {
     "is_executing": false,
     "name": "#%%\n"
    }
   },
   "outputs": [],
   "source": [
    "I_sd = Parameter(name='I_sd', label='SET current', unit='A', set_cmd=None, get_cmd=dummyget)\n",
    "v_sd = Parameter(name='v_sd', label='SET sd', unit='V', initial_value=0,\n",
    "                 set_cmd=dummyset, get_cmd=None, vals=Numbers(max_value=1, min_value=-1))\n",
    "v_g1 = Parameter(name='v_g1', label='Gate 1', unit='V', initial_value=0,\n",
    "                 set_cmd=dummyset, get_cmd=None, vals=Numbers(max_value=1, min_value=-1))"
   ]
  },
  {
   "cell_type": "code",
   "execution_count": 5,
   "metadata": {
    "ExecuteTime": {
     "end_time": "2023-09-26T12:26:18.426458Z",
     "start_time": "2023-09-26T12:26:18.411147Z"
    },
    "pycharm": {
     "is_executing": false,
     "name": "#%%\n"
    }
   },
   "outputs": [],
   "source": [
    "scan_range = np.linspace(-1, 1, 100)"
   ]
  },
  {
   "cell_type": "code",
   "execution_count": 6,
   "metadata": {
    "ExecuteTime": {
     "end_time": "2023-09-26T12:26:18.844125Z",
     "start_time": "2023-09-26T12:26:18.828296Z"
    },
    "pycharm": {
     "is_executing": false,
     "name": "#%%\n"
    }
   },
   "outputs": [],
   "source": [
    "my_manager = DataManager()"
   ]
  },
  {
   "cell_type": "code",
   "execution_count": 7,
   "metadata": {
    "ExecuteTime": {
     "end_time": "2023-09-26T12:26:19.522584Z",
     "start_time": "2023-09-26T12:26:19.511742Z"
    },
    "pycharm": {
     "is_executing": false,
     "name": "#%%\n"
    }
   },
   "outputs": [],
   "source": [
    "my_logger = Logger(mkor4k='mk',\n",
    "                   sample_name='DummyTest',\n",
    "                   tester='xf')"
   ]
  },
  {
   "cell_type": "code",
   "execution_count": 8,
   "metadata": {
    "ExecuteTime": {
     "end_time": "2023-09-21T08:38:44.255850Z",
     "start_time": "2023-09-21T08:38:44.239169Z"
    },
    "pycharm": {
     "is_executing": false,
     "name": "#%%\n"
    }
   },
   "outputs": [],
   "source": [
    "my_scan = Scan(para_meas=I_sd,\n",
    "               para_scan=v_sd,\n",
    "               range_scan=scan_range,\n",
    "               data_manager=my_manager,\n",
    "               logger=my_logger,\n",
    "               scaler=1e9)"
   ]
  },
  {
   "cell_type": "code",
   "execution_count": 9,
   "metadata": {
    "ExecuteTime": {
     "end_time": "2023-09-21T08:38:49.541149Z",
     "start_time": "2023-09-21T08:38:44.861919Z"
    },
    "pycharm": {
     "is_executing": false,
     "name": "#%%\n"
    }
   },
   "outputs": [
    {
     "name": "stdout",
     "output_type": "stream",
     "text": [
      "Start experimental run with id:1 idz:0 idx:99 --- 0.2856 nA [##################################################]100.0%"
     ]
    },
    {
     "data": {
      "text/plain": [
       "{'text': 'scan',\n",
       " 'subtitle': 'id:1 D:/Data/2023-09-21/\\n16-38-46 --- 16-38-47\\nproject name: DummyTestmktest, tester: xf',\n",
       " 'comment': ''}"
      ]
     },
     "execution_count": 9,
     "metadata": {},
     "output_type": "execute_result"
    }
   ],
   "source": [
    "my_scan.scan_1d(range_scan_x=0)\n"
   ]
  },
  {
   "cell_type": "markdown",
   "metadata": {
    "pycharm": {
     "name": "#%%\n"
    }
   },
   "source": [
    "# Scan v.1.2 test\n"
   ]
  },
  {
   "cell_type": "code",
   "execution_count": 8,
   "metadata": {
    "ExecuteTime": {
     "end_time": "2023-09-26T12:26:22.742797Z",
     "start_time": "2023-09-26T12:26:22.738172Z"
    }
   },
   "outputs": [],
   "source": [
    "my_scan = Scan(para_meas=I_sd,\n",
    "               para_scan=[v_sd,v_g1],\n",
    "               data_manager=my_manager,\n",
    "               logger=my_logger,\n",
    "               scaler=1e9)"
   ]
  },
  {
   "cell_type": "code",
   "execution_count": 9,
   "metadata": {
    "ExecuteTime": {
     "end_time": "2023-09-26T12:25:01.942135Z",
     "start_time": "2023-09-26T12:25:01.929063Z"
    }
   },
   "outputs": [],
   "source": [
    "my_scan.set_range_1d(scan_range)"
   ]
  },
  {
   "cell_type": "code",
   "execution_count": 10,
   "metadata": {
    "ExecuteTime": {
     "end_time": "2023-09-26T12:25:02.534526Z",
     "start_time": "2023-09-26T12:25:02.515605Z"
    }
   },
   "outputs": [
    {
     "data": {
      "text/plain": [
       "{'scan_1d': [array([-1.        , -0.97979798, -0.95959596, -0.93939394, -0.91919192,\n",
       "         -0.8989899 , -0.87878788, -0.85858586, -0.83838384, -0.81818182,\n",
       "         -0.7979798 , -0.77777778, -0.75757576, -0.73737374, -0.71717172,\n",
       "         -0.6969697 , -0.67676768, -0.65656566, -0.63636364, -0.61616162,\n",
       "         -0.5959596 , -0.57575758, -0.55555556, -0.53535354, -0.51515152,\n",
       "         -0.49494949, -0.47474747, -0.45454545, -0.43434343, -0.41414141,\n",
       "         -0.39393939, -0.37373737, -0.35353535, -0.33333333, -0.31313131,\n",
       "         -0.29292929, -0.27272727, -0.25252525, -0.23232323, -0.21212121,\n",
       "         -0.19191919, -0.17171717, -0.15151515, -0.13131313, -0.11111111,\n",
       "         -0.09090909, -0.07070707, -0.05050505, -0.03030303, -0.01010101,\n",
       "          0.01010101,  0.03030303,  0.05050505,  0.07070707,  0.09090909,\n",
       "          0.11111111,  0.13131313,  0.15151515,  0.17171717,  0.19191919,\n",
       "          0.21212121,  0.23232323,  0.25252525,  0.27272727,  0.29292929,\n",
       "          0.31313131,  0.33333333,  0.35353535,  0.37373737,  0.39393939,\n",
       "          0.41414141,  0.43434343,  0.45454545,  0.47474747,  0.49494949,\n",
       "          0.51515152,  0.53535354,  0.55555556,  0.57575758,  0.5959596 ,\n",
       "          0.61616162,  0.63636364,  0.65656566,  0.67676768,  0.6969697 ,\n",
       "          0.71717172,  0.73737374,  0.75757576,  0.77777778,  0.7979798 ,\n",
       "          0.81818182,  0.83838384,  0.85858586,  0.87878788,  0.8989899 ,\n",
       "          0.91919192,  0.93939394,  0.95959596,  0.97979798,  1.        ])],\n",
       " 'scan_2d': [array([0]), array([0])]}"
      ]
     },
     "execution_count": 10,
     "metadata": {},
     "output_type": "execute_result"
    }
   ],
   "source": [
    "my_scan._ranges"
   ]
  },
  {
   "cell_type": "code",
   "execution_count": 11,
   "metadata": {
    "ExecuteTime": {
     "end_time": "2023-09-26T12:25:10.379461Z",
     "start_time": "2023-09-26T12:25:05.686314Z"
    }
   },
   "outputs": [
    {
     "name": "stdout",
     "output_type": "stream",
     "text": [
      "The dataset is already created with id1!\n",
      "Start experimental run with id:1 idy:None idz:0 idx:99 --- 0.3599 nA [########################################]100.0%"
     ]
    },
    {
     "data": {
      "text/plain": [
       "{'text': 'scan',\n",
       " 'subtitle': 'id:1 D:/Data/2023-09-26/\\n20-25-05 --- 20-25-08\\nproject name: DummyTestmktest, tester: xf',\n",
       " 'comment': ''}"
      ]
     },
     "execution_count": 11,
     "metadata": {},
     "output_type": "execute_result"
    }
   ],
   "source": [
    "my_scan.scan_1d(scan_x=1)"
   ]
  },
  {
   "cell_type": "code",
   "execution_count": 9,
   "metadata": {
    "ExecuteTime": {
     "end_time": "2023-09-26T12:26:28.252616Z",
     "start_time": "2023-09-26T12:26:28.244065Z"
    }
   },
   "outputs": [],
   "source": [
    "scan_x_range = np.linspace(-1, 1, 100)\n",
    "scan_y_range = np.linspace(-1, 1, 100)"
   ]
  },
  {
   "cell_type": "code",
   "execution_count": 10,
   "metadata": {
    "ExecuteTime": {
     "end_time": "2023-09-26T12:26:28.623359Z",
     "start_time": "2023-09-26T12:26:28.615383Z"
    }
   },
   "outputs": [],
   "source": [
    "my_scan.set_range_2d(scan_x_range, scan_y_range)"
   ]
  },
  {
   "cell_type": "code",
   "execution_count": 11,
   "metadata": {
    "ExecuteTime": {
     "end_time": "2023-09-26T12:26:35.353047Z",
     "start_time": "2023-09-26T12:26:29.544413Z"
    }
   },
   "outputs": [
    {
     "name": "stdout",
     "output_type": "stream",
     "text": [
      "The dataset is already created with id1!\n",
      "Start experimental run with id:1 idy:0 idz:0 idx:99 --- 0.4040 nA [########################################]100.0%"
     ]
    },
    {
     "ename": "ValueError",
     "evalue": "3 indexing arguments for 2 dimensions",
     "output_type": "error",
     "traceback": [
      "\u001b[1;31m---------------------------------------------------------------------------\u001b[0m",
      "\u001b[1;31mValueError\u001b[0m                                Traceback (most recent call last)",
      "Cell \u001b[1;32mIn[11], line 1\u001b[0m\n\u001b[1;32m----> 1\u001b[0m \u001b[43mmy_scan\u001b[49m\u001b[38;5;241;43m.\u001b[39;49m\u001b[43mscan_2d\u001b[49m\u001b[43m(\u001b[49m\u001b[43mscan_x\u001b[49m\u001b[38;5;241;43m=\u001b[39;49m\u001b[38;5;241;43m1\u001b[39;49m\u001b[43m,\u001b[49m\u001b[43mscan_y\u001b[49m\u001b[38;5;241;43m=\u001b[39;49m\u001b[38;5;241;43m0\u001b[39;49m\u001b[43m)\u001b[49m\n",
      "File \u001b[1;32m~\\PycharmProjects\\qcodes\\tools\\scan.py:269\u001b[0m, in \u001b[0;36mScan.scan_2d\u001b[1;34m(self, scan_x, scan_y)\u001b[0m\n\u001b[0;32m    265\u001b[0m dataset \u001b[38;5;241m=\u001b[39m \u001b[38;5;28mself\u001b[39m\u001b[38;5;241m.\u001b[39mscan_dataset(file, range_2d)\n\u001b[0;32m    267\u001b[0m start_time \u001b[38;5;241m=\u001b[39m \u001b[38;5;28mself\u001b[39m\u001b[38;5;241m.\u001b[39mscan_start(scan_xy_para, range_2d)\n\u001b[1;32m--> 269\u001b[0m \u001b[38;5;28;43mself\u001b[39;49m\u001b[38;5;241;43m.\u001b[39;49m\u001b[43mscan_action\u001b[49m\u001b[43m(\u001b[49m\u001b[43mrange_2d\u001b[49m\u001b[43m,\u001b[49m\u001b[43m \u001b[49m\u001b[43mscan_xy_para\u001b[49m\u001b[43m,\u001b[49m\u001b[43m \u001b[49m\u001b[43mdataset\u001b[49m\u001b[43m)\u001b[49m\n\u001b[0;32m    271\u001b[0m end_time \u001b[38;5;241m=\u001b[39m \u001b[38;5;28mself\u001b[39m\u001b[38;5;241m.\u001b[39mscan_end(scan_xy_para)\n\u001b[0;32m    273\u001b[0m notes \u001b[38;5;241m=\u001b[39m \u001b[38;5;28mself\u001b[39m\u001b[38;5;241m.\u001b[39mgenerate_notes(start_time, end_time)\n",
      "File \u001b[1;32m~\\PycharmProjects\\qcodes\\tools\\scan.py:214\u001b[0m, in \u001b[0;36mScan.scan_action\u001b[1;34m(self, ranges, scan_para_list, dataset)\u001b[0m\n\u001b[0;32m    212\u001b[0m     \u001b[38;5;28mself\u001b[39m\u001b[38;5;241m.\u001b[39mscan_action_1d(ranges, scan_para_list, dataset)\n\u001b[0;32m    213\u001b[0m \u001b[38;5;28;01melif\u001b[39;00m \u001b[38;5;28mlen\u001b[39m(ranges) \u001b[38;5;241m==\u001b[39m \u001b[38;5;241m2\u001b[39m:\n\u001b[1;32m--> 214\u001b[0m     \u001b[38;5;28;43mself\u001b[39;49m\u001b[38;5;241;43m.\u001b[39;49m\u001b[43mscan_action_2d\u001b[49m\u001b[43m(\u001b[49m\u001b[43mranges\u001b[49m\u001b[43m,\u001b[49m\u001b[43m \u001b[49m\u001b[43mscan_para_list\u001b[49m\u001b[43m,\u001b[49m\u001b[43m \u001b[49m\u001b[43mdataset\u001b[49m\u001b[43m)\u001b[49m\n\u001b[0;32m    215\u001b[0m \u001b[38;5;28;01melse\u001b[39;00m:\n\u001b[0;32m    216\u001b[0m     \u001b[38;5;28;01mraise\u001b[39;00m \u001b[38;5;167;01mValueError\u001b[39;00m(\u001b[38;5;124m'\u001b[39m\u001b[38;5;124mThe dimension of scan ranges excesses two !\u001b[39m\u001b[38;5;124m'\u001b[39m)\n",
      "File \u001b[1;32m~\\PycharmProjects\\qcodes\\tools\\scan.py:249\u001b[0m, in \u001b[0;36mScan.scan_action_2d\u001b[1;34m(self, ranges, scan_para, dataset)\u001b[0m\n\u001b[0;32m    242\u001b[0m         \u001b[38;5;28mself\u001b[39m\u001b[38;5;241m.\u001b[39mdata[idz, idx, idy] \u001b[38;5;241m=\u001b[39m np\u001b[38;5;241m.\u001b[39maverage(raw_data)\n\u001b[0;32m    243\u001b[0m         \u001b[38;5;28mself\u001b[39m\u001b[38;5;241m.\u001b[39mmanager\u001b[38;5;241m.\u001b[39mprogress_bar(current\u001b[38;5;241m=\u001b[39m\u001b[38;5;28mself\u001b[39m\u001b[38;5;241m.\u001b[39mdata[idz, idx, idy],\n\u001b[0;32m    244\u001b[0m                                   idy\u001b[38;5;241m=\u001b[39midy,\n\u001b[0;32m    245\u001b[0m                                   idx\u001b[38;5;241m=\u001b[39midx,\n\u001b[0;32m    246\u001b[0m                                   idz\u001b[38;5;241m=\u001b[39midz,\n\u001b[0;32m    247\u001b[0m                                   length\u001b[38;5;241m=\u001b[39m\u001b[38;5;28mlen\u001b[39m(ranges[\u001b[38;5;241m0\u001b[39m]))\n\u001b[1;32m--> 249\u001b[0m dataset[:, :, idy] \u001b[38;5;241m=\u001b[39m \u001b[38;5;28mself\u001b[39m\u001b[38;5;241m.\u001b[39mdata[:, :, idy]\n",
      "File \u001b[1;32mh5py\\_objects.pyx:54\u001b[0m, in \u001b[0;36mh5py._objects.with_phil.wrapper\u001b[1;34m()\u001b[0m\n",
      "File \u001b[1;32mh5py\\_objects.pyx:55\u001b[0m, in \u001b[0;36mh5py._objects.with_phil.wrapper\u001b[1;34m()\u001b[0m\n",
      "File \u001b[1;32mD:\\Anaconda\\envs\\qcodes\\lib\\site-packages\\h5py\\_hl\\dataset.py:947\u001b[0m, in \u001b[0;36mDataset.__setitem__\u001b[1;34m(self, args, val)\u001b[0m\n\u001b[0;32m    944\u001b[0m     mtype \u001b[38;5;241m=\u001b[39m \u001b[38;5;28;01mNone\u001b[39;00m\n\u001b[0;32m    946\u001b[0m \u001b[38;5;66;03m# Perform the dataspace selection\u001b[39;00m\n\u001b[1;32m--> 947\u001b[0m selection \u001b[38;5;241m=\u001b[39m \u001b[43msel\u001b[49m\u001b[38;5;241;43m.\u001b[39;49m\u001b[43mselect\u001b[49m\u001b[43m(\u001b[49m\u001b[38;5;28;43mself\u001b[39;49m\u001b[38;5;241;43m.\u001b[39;49m\u001b[43mshape\u001b[49m\u001b[43m,\u001b[49m\u001b[43m \u001b[49m\u001b[43margs\u001b[49m\u001b[43m,\u001b[49m\u001b[43m \u001b[49m\u001b[43mdataset\u001b[49m\u001b[38;5;241;43m=\u001b[39;49m\u001b[38;5;28;43mself\u001b[39;49m\u001b[43m)\u001b[49m\n\u001b[0;32m    949\u001b[0m \u001b[38;5;28;01mif\u001b[39;00m selection\u001b[38;5;241m.\u001b[39mnselect \u001b[38;5;241m==\u001b[39m \u001b[38;5;241m0\u001b[39m:\n\u001b[0;32m    950\u001b[0m     \u001b[38;5;28;01mreturn\u001b[39;00m\n",
      "File \u001b[1;32mD:\\Anaconda\\envs\\qcodes\\lib\\site-packages\\h5py\\_hl\\selections.py:82\u001b[0m, in \u001b[0;36mselect\u001b[1;34m(shape, args, dataset)\u001b[0m\n\u001b[0;32m     79\u001b[0m     space \u001b[38;5;241m=\u001b[39m h5s\u001b[38;5;241m.\u001b[39mcreate_simple(shape)\n\u001b[0;32m     80\u001b[0m     selector \u001b[38;5;241m=\u001b[39m _selector\u001b[38;5;241m.\u001b[39mSelector(space)\n\u001b[1;32m---> 82\u001b[0m \u001b[38;5;28;01mreturn\u001b[39;00m \u001b[43mselector\u001b[49m\u001b[38;5;241;43m.\u001b[39;49m\u001b[43mmake_selection\u001b[49m\u001b[43m(\u001b[49m\u001b[43margs\u001b[49m\u001b[43m)\u001b[49m\n",
      "File \u001b[1;32mh5py\\_selector.pyx:276\u001b[0m, in \u001b[0;36mh5py._selector.Selector.make_selection\u001b[1;34m()\u001b[0m\n",
      "File \u001b[1;32mh5py\\_selector.pyx:107\u001b[0m, in \u001b[0;36mh5py._selector.Selector.apply_args\u001b[1;34m()\u001b[0m\n",
      "\u001b[1;31mValueError\u001b[0m: 3 indexing arguments for 2 dimensions"
     ]
    }
   ],
   "source": [
    "my_scan.scan_2d(scan_x=1,scan_y=0)"
   ]
  },
  {
   "cell_type": "code",
   "execution_count": 15,
   "metadata": {
    "ExecuteTime": {
     "end_time": "2023-09-26T12:13:42.585063Z",
     "start_time": "2023-09-26T12:13:42.576442Z"
    }
   },
   "outputs": [
    {
     "data": {
      "text/plain": [
       "3"
      ]
     },
     "execution_count": 15,
     "metadata": {},
     "output_type": "execute_result"
    }
   ],
   "source": [
    "my_manager.id"
   ]
  },
  {
   "cell_type": "code",
   "execution_count": 10,
   "metadata": {
    "ExecuteTime": {
     "end_time": "2023-09-26T08:08:06.547202Z",
     "start_time": "2023-09-26T08:08:06.538286Z"
    }
   },
   "outputs": [],
   "source": [
    "alist = [np.arange(i) for i in range(3,7)]"
   ]
  },
  {
   "cell_type": "code",
   "execution_count": 12,
   "metadata": {
    "ExecuteTime": {
     "end_time": "2023-09-26T08:08:45.957869Z",
     "start_time": "2023-09-26T08:08:45.950125Z"
    }
   },
   "outputs": [],
   "source": [
    "arr = np.array(alist, dtype = object)"
   ]
  },
  {
   "cell_type": "code",
   "execution_count": 19,
   "metadata": {
    "ExecuteTime": {
     "end_time": "2023-09-26T08:09:18.325880Z",
     "start_time": "2023-09-26T08:09:18.313026Z"
    }
   },
   "outputs": [
    {
     "data": {
      "text/plain": [
       "array([0, 2, 2, 3])"
      ]
     },
     "execution_count": 19,
     "metadata": {},
     "output_type": "execute_result"
    }
   ],
   "source": [
    "arr[1]"
   ]
  },
  {
   "cell_type": "code",
   "execution_count": 20,
   "metadata": {
    "ExecuteTime": {
     "end_time": "2023-09-26T08:10:15.956730Z",
     "start_time": "2023-09-26T08:10:15.941264Z"
    }
   },
   "outputs": [
    {
     "name": "stderr",
     "output_type": "stream",
     "text": [
      "C:\\Users\\Yoonaxf\\AppData\\Local\\Temp\\ipykernel_40272\\443256822.py:1: VisibleDeprecationWarning: Creating an ndarray from ragged nested sequences (which is a list-or-tuple of lists-or-tuples-or ndarrays with different lengths or shapes) is deprecated. If you meant to do this, you must specify 'dtype=object' when creating the ndarray.\n",
      "  arr1 = np.array([np.array([1,2,3]),np.array([1,2,3,4])])\n"
     ]
    }
   ],
   "source": [
    "arr1 = np.array([np.array([1,2,3]),np.array([1,2,3,4])])"
   ]
  },
  {
   "cell_type": "code",
   "execution_count": 21,
   "metadata": {
    "ExecuteTime": {
     "end_time": "2023-09-26T08:10:39.637292Z",
     "start_time": "2023-09-26T08:10:39.625181Z"
    }
   },
   "outputs": [
    {
     "data": {
      "text/plain": [
       "4"
      ]
     },
     "execution_count": 21,
     "metadata": {},
     "output_type": "execute_result"
    }
   ],
   "source": [
    "len(arr)"
   ]
  },
  {
   "cell_type": "code",
   "execution_count": null,
   "metadata": {},
   "outputs": [],
   "source": []
  }
 ],
 "metadata": {
  "kernelspec": {
   "display_name": "'Python(qcodes)'",
   "language": "python",
   "name": "qcodes"
  },
  "language_info": {
   "codemirror_mode": {
    "name": "ipython",
    "version": 3
   },
   "file_extension": ".py",
   "mimetype": "text/x-python",
   "name": "python",
   "nbconvert_exporter": "python",
   "pygments_lexer": "ipython3",
   "version": "3.9.0"
  },
  "pycharm": {
   "stem_cell": {
    "cell_type": "raw",
    "metadata": {
     "collapsed": false
    },
    "source": []
   }
  },
  "toc": {
   "base_numbering": 1,
   "nav_menu": {},
   "number_sections": true,
   "sideBar": true,
   "skip_h1_title": false,
   "title_cell": "Table of Contents",
   "title_sidebar": "Contents",
   "toc_cell": false,
   "toc_position": {},
   "toc_section_display": true,
   "toc_window_display": false
  }
 },
 "nbformat": 4,
 "nbformat_minor": 1
}
