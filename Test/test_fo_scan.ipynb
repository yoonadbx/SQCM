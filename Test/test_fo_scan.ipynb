{
 "cells": [
  {
   "cell_type": "markdown",
   "metadata": {},
   "source": [
    "# Test preparation"
   ]
  },
  {
   "cell_type": "code",
   "execution_count": 1,
   "metadata": {
    "ExecuteTime": {
     "end_time": "2023-10-23T12:40:42.500836Z",
     "start_time": "2023-10-23T12:40:40.232671Z"
    }
   },
   "outputs": [],
   "source": [
    "import matplotlib\n",
    "import matplotlib.pyplot as plt\n",
    "%matplotlib inline\n",
    "%config InlineBackend.figure_format = 'svg'"
   ]
  },
  {
   "cell_type": "code",
   "execution_count": 2,
   "metadata": {
    "ExecuteTime": {
     "end_time": "2023-10-23T12:40:49.640909Z",
     "start_time": "2023-10-23T12:40:47.836185Z"
    }
   },
   "outputs": [],
   "source": [
    "from qcodes.utils.validators import Numbers\n",
    "from qcodes.instrument import Parameter\n",
    "from tools import *\n",
    "import tools.project as pro\n",
    "from random import random, gauss\n",
    "import numpy as np"
   ]
  },
  {
   "cell_type": "markdown",
   "metadata": {},
   "source": [
    "## Instruments"
   ]
  },
  {
   "cell_type": "code",
   "execution_count": 3,
   "metadata": {
    "ExecuteTime": {
     "end_time": "2023-10-23T12:40:50.559786Z",
     "start_time": "2023-10-23T12:40:50.552780Z"
    }
   },
   "outputs": [],
   "source": [
    "from DAC_SP1060 import DAC_SP1060"
   ]
  },
  {
   "cell_type": "code",
   "execution_count": 4,
   "metadata": {
    "ExecuteTime": {
     "end_time": "2023-10-23T12:40:51.209406Z",
     "start_time": "2023-10-23T12:40:51.009215Z"
    }
   },
   "outputs": [],
   "source": [
    "dac = DAC_SP1060('sp1060','TCPIP0::192.168.31.5::23::SOCKET')"
   ]
  },
  {
   "cell_type": "code",
   "execution_count": 5,
   "metadata": {
    "ExecuteTime": {
     "end_time": "2023-10-23T12:40:52.070229Z",
     "start_time": "2023-10-23T12:40:52.065223Z"
    },
    "pycharm": {
     "name": "#%%\n"
    }
   },
   "outputs": [],
   "source": [
    "def dummyset(voltage):\n",
    "    return voltage\n",
    "\n",
    "\n",
    "def dummyget():\n",
    "    return gauss(10,5)\n"
   ]
  },
  {
   "cell_type": "markdown",
   "metadata": {},
   "source": [
    "## Parameters"
   ]
  },
  {
   "cell_type": "code",
   "execution_count": 6,
   "metadata": {
    "ExecuteTime": {
     "end_time": "2023-10-23T12:40:52.988105Z",
     "start_time": "2023-10-23T12:40:52.977094Z"
    },
    "pycharm": {
     "name": "#%%\n"
    }
   },
   "outputs": [],
   "source": [
    "I_sd = Parameter(name='I_sd', label='SET current', unit='A', set_cmd=None, get_cmd=dummyget)\n",
    "v_sd = Parameter(name='v_sd', label='SET sd', unit='V', initial_value=0,\n",
    "                 set_cmd=dummyset, get_cmd=None, vals=Numbers(max_value=1, min_value=-1))\n",
    "v_g1 = Parameter(name='v_g1', label='Gate 1', unit='V', initial_value=0,\n",
    "                 set_cmd=dummyset, get_cmd=None, vals=Numbers(max_value=1, min_value=-1))\n",
    "v_R = Parameter(name = 'v_R', label = 'Resistance vlotage', unit = 'V',\n",
    "                 set_cmd = dac.ch12.voltage, get_cmd = dac.ch12.voltage, vals = Numbers(max_value=0.2, min_value=-0.2))"
   ]
  },
  {
   "cell_type": "code",
   "execution_count": 7,
   "metadata": {
    "ExecuteTime": {
     "end_time": "2023-10-23T12:40:53.671758Z",
     "start_time": "2023-10-23T12:40:53.666752Z"
    },
    "pycharm": {
     "name": "#%%\n"
    }
   },
   "outputs": [],
   "source": [
    "scan_range = np.linspace(-0.1, 0.1, 100)"
   ]
  },
  {
   "cell_type": "markdown",
   "metadata": {},
   "source": [
    "# scan v.1.1 test"
   ]
  },
  {
   "cell_type": "code",
   "execution_count": null,
   "metadata": {
    "ExecuteTime": {
     "end_time": "2023-09-21T08:38:44.255850Z",
     "start_time": "2023-09-21T08:38:44.239169Z"
    },
    "pycharm": {
     "name": "#%%\n"
    }
   },
   "outputs": [],
   "source": [
    "my_scan = Scan(para_meas=I_sd,\n",
    "               para_scan=v_sd,\n",
    "               range_scan=scan_range,\n",
    "               data_manager=my_manager,\n",
    "               logger=my_logger,\n",
    "               scaler=1e9)"
   ]
  },
  {
   "cell_type": "code",
   "execution_count": null,
   "metadata": {
    "ExecuteTime": {
     "end_time": "2023-09-21T08:38:49.541149Z",
     "start_time": "2023-09-21T08:38:44.861919Z"
    },
    "pycharm": {
     "is_executing": false,
     "name": "#%%\n"
    }
   },
   "outputs": [],
   "source": [
    "my_scan.scan_1d(range_scan_x=0)\n"
   ]
  },
  {
   "cell_type": "markdown",
   "metadata": {
    "pycharm": {
     "name": "#%%\n"
    }
   },
   "source": [
    "# Scan v.1.2 test\n"
   ]
  },
  {
   "cell_type": "code",
   "execution_count": null,
   "metadata": {
    "ExecuteTime": {
     "end_time": "2023-10-08T16:45:34.947610Z",
     "start_time": "2023-10-08T16:45:34.934115Z"
    }
   },
   "outputs": [],
   "source": [
    "my_scan = Scan(para_meas=I_sd,\n",
    "               para_scan=[v_sd,v_g1],\n",
    "               data_manager=my_manager,\n",
    "               logger=my_logger,\n",
    "               scaler=1e9)"
   ]
  },
  {
   "cell_type": "code",
   "execution_count": null,
   "metadata": {
    "ExecuteTime": {
     "end_time": "2023-10-08T16:45:36.528799Z",
     "start_time": "2023-10-08T16:45:36.521191Z"
    }
   },
   "outputs": [],
   "source": [
    "my_scan.set_range_1d(scan_range)"
   ]
  },
  {
   "cell_type": "code",
   "execution_count": null,
   "metadata": {
    "ExecuteTime": {
     "end_time": "2023-10-08T16:45:37.558594Z",
     "start_time": "2023-10-08T16:45:37.554134Z"
    }
   },
   "outputs": [],
   "source": [
    "my_scan._ranges"
   ]
  },
  {
   "cell_type": "code",
   "execution_count": null,
   "metadata": {
    "ExecuteTime": {
     "end_time": "2023-10-08T16:45:43.903604Z",
     "start_time": "2023-10-08T16:45:39.189170Z"
    }
   },
   "outputs": [],
   "source": [
    "my_scan.scan_1d(scan_x=1)"
   ]
  },
  {
   "cell_type": "code",
   "execution_count": null,
   "metadata": {
    "ExecuteTime": {
     "end_time": "2023-10-08T16:26:17.584388Z",
     "start_time": "2023-10-08T16:26:17.408560Z"
    }
   },
   "outputs": [],
   "source": [
    "plt.plot(scan_range, my_scan.data[0,:])"
   ]
  },
  {
   "cell_type": "code",
   "execution_count": null,
   "metadata": {
    "ExecuteTime": {
     "end_time": "2023-10-09T07:45:58.298386Z",
     "start_time": "2023-10-09T07:45:58.289816Z"
    }
   },
   "outputs": [],
   "source": [
    "scan_x_range = np.linspace(-0.1, 0.1, 100)\n",
    "scan_y_range = np.linspace(-0.1, 0.1, 10)"
   ]
  },
  {
   "cell_type": "code",
   "execution_count": null,
   "metadata": {
    "ExecuteTime": {
     "end_time": "2023-10-09T07:45:58.840524Z",
     "start_time": "2023-10-09T07:45:58.823449Z"
    }
   },
   "outputs": [],
   "source": [
    "my_scan.set_range_2d(scan_x_range, scan_y_range)"
   ]
  },
  {
   "cell_type": "code",
   "execution_count": null,
   "metadata": {
    "ExecuteTime": {
     "end_time": "2023-10-08T16:53:52.022487Z",
     "start_time": "2023-10-08T16:46:01.022527Z"
    }
   },
   "outputs": [],
   "source": [
    "my_scan.scan_2d(scan_x=1,scan_y=0)"
   ]
  },
  {
   "cell_type": "code",
   "execution_count": null,
   "metadata": {
    "ExecuteTime": {
     "end_time": "2023-10-08T16:42:05.910908Z",
     "start_time": "2023-10-08T16:42:05.894880Z"
    }
   },
   "outputs": [],
   "source": [
    "my_manager.id"
   ]
  },
  {
   "cell_type": "code",
   "execution_count": null,
   "metadata": {
    "ExecuteTime": {
     "end_time": "2023-10-08T16:41:58.111335Z",
     "start_time": "2023-10-08T16:41:57.255032Z"
    }
   },
   "outputs": [],
   "source": [
    "plt.pcolormesh(my_scan.data[0,:,:])\n",
    "plt.colorbar()"
   ]
  },
  {
   "cell_type": "code",
   "execution_count": null,
   "metadata": {
    "ExecuteTime": {
     "end_time": "2023-09-26T08:08:45.957869Z",
     "start_time": "2023-09-26T08:08:45.950125Z"
    }
   },
   "outputs": [],
   "source": [
    "arr = np.array(alist, dtype = object)"
   ]
  },
  {
   "cell_type": "markdown",
   "metadata": {},
   "source": [
    "## Running time analysis"
   ]
  },
  {
   "cell_type": "code",
   "execution_count": null,
   "metadata": {
    "ExecuteTime": {
     "end_time": "2023-10-09T06:08:29.960068Z",
     "start_time": "2023-10-09T06:08:29.939809Z"
    }
   },
   "outputs": [],
   "source": [
    "from line_profiler import LineProfiler"
   ]
  },
  {
   "cell_type": "code",
   "execution_count": null,
   "metadata": {
    "ExecuteTime": {
     "end_time": "2023-10-09T06:09:29.361211Z",
     "start_time": "2023-10-09T06:09:29.348695Z"
    }
   },
   "outputs": [],
   "source": [
    "profile = LineProfiler(my_scan.scan_2d)"
   ]
  },
  {
   "cell_type": "code",
   "execution_count": null,
   "metadata": {
    "ExecuteTime": {
     "end_time": "2023-10-09T06:18:26.591812Z",
     "start_time": "2023-10-09T06:10:35.315123Z"
    }
   },
   "outputs": [],
   "source": [
    "profile.runcall(my_scan.scan_2d, 1, 0)\n",
    "profile.print_stats()"
   ]
  },
  {
   "cell_type": "code",
   "execution_count": null,
   "metadata": {
    "ExecuteTime": {
     "end_time": "2023-10-09T06:24:48.678936Z",
     "start_time": "2023-10-09T06:24:44.011106Z"
    }
   },
   "outputs": [],
   "source": [
    "profile = LineProfiler(my_scan.scan_1d)\n",
    "profile.runcall(my_scan.scan_1d, 1)\n",
    "profile.print_stats()"
   ]
  },
  {
   "cell_type": "code",
   "execution_count": null,
   "metadata": {
    "ExecuteTime": {
     "end_time": "2023-10-09T07:46:06.796939Z",
     "start_time": "2023-10-09T07:46:06.775091Z"
    }
   },
   "outputs": [],
   "source": [
    "import h5py\n",
    "import time\n",
    "from collections import Iterable\n",
    "\n",
    "def acqusition_generator(para_meas):\n",
    "    for vz in my_scan.para_meas:\n",
    "        yield vz()\n",
    "    \n",
    "def safe(parameter, endpoint):\n",
    "    if isinstance(parameter, Iterable):\n",
    "        for element in parameter:\n",
    "            ramp(element, endpoint)\n",
    "    else:\n",
    "        ramp(parameter, endpoint)\n",
    "\n",
    "def ramp(parameter, endpoint, step=0.01):\n",
    "    if endpoint > 50 or step == 0:\n",
    "        pass\n",
    "    else:\n",
    "        start_point = parameter()\n",
    "        if start_point > endpoint:\n",
    "            step = -step \n",
    "        interval = np.arange(start_point, endpoint, step)\n",
    "        for val in interval:\n",
    "            parameter(val)\n",
    "            time.sleep(0.005)\n",
    "    parameter(endpoint)\n",
    "def output(parameter, val):\n",
    "    if isinstance(parameter, Iterable):\n",
    "        for element in parameter:\n",
    "            element(val)\n",
    "    else:\n",
    "        parameter(val)\n",
    "\n",
    "def scan_1d(scan_x: int):\n",
    "    scan_type = 'scan_1d'\n",
    "    scan_para_list=[scan_x]\n",
    "    ranges = my_scan._ranges[scan_type]\n",
    "    scan_para = [my_scan.para_scan[para] for para in scan_para_list]\n",
    "    if len(ranges) == len(scan_para):\n",
    "        my_scan.data = np.zeros((len(my_scan.para_meas),) + my_scan.range_scan_dimension(ranges))\n",
    "    else:\n",
    "        raise ValueError('scan_para_list is out of range and it does not match the scan range.')\n",
    "    my_scan.manager.update_run_id()\n",
    "    data_file = my_scan.manager.create_hdf5_file\n",
    "    with h5py.File(data_file, 'a') as file:\n",
    "\n",
    "        dataset = my_scan.scan_dataset(file, ranges)\n",
    "\n",
    "        start_time = my_scan.scan_start(scan_para, ranges)\n",
    "\n",
    "#      my_scan.scan_action(range_2d, scan_xy_para, dataset)\n",
    "        if len(ranges) == 1:\n",
    "            with ACQTask(acq_name='art',\n",
    "             acq_channels='Dev1/ai4',\n",
    "             sample_rate=1e4,m\n",
    "             memory_size=1000) as daq:\n",
    "                for idx, vx in enumerate(ranges[0]):\n",
    "                    output(scan_para[0], vx)\n",
    "                    time.sleep(my_scan.sleep)\n",
    "                    for idz, vz in enumerate(my_scan.para_meas):\n",
    "                        raw_data = daq.read() / my_scan.scaler\n",
    "                        my_scan.data[idz, idx] = np.average(raw_data)\n",
    "                        # ------------------------------------------------------------------------------------------------------\n",
    "                        my_scan.manager.progress_bar(current=my_scan.data[idz, idx],\n",
    "                                                  idx=idx,\n",
    "                                                  idz=idz,\n",
    "                                                  length=len(ranges[0]))\n",
    "                    # ----------------------------------------------------------------------------------------------------------\n",
    "                    dataset[:, idx] = my_scan.data[:, idx]\n",
    "        elif len(ranges) == 2:\n",
    "#             self.scan_action_2d(ranges, scan_para_list, dataset)\n",
    "            for idy, vy in enumerate(ranges[1]):\n",
    "                safe(scan_para[0], ranges[0][0])\n",
    "                output(scan_para[1], vy)\n",
    "                for idx, vx in enumerate(ranges[0]):\n",
    "                    output(scan_para[0], vx)\n",
    "                    time.sleep(my_scan.sleep)\n",
    "                    for idz, vz in enumerate(my_scan.para_meas):\n",
    "                        raw_data = vz() / my_scan.scaler\n",
    "                        my_scan.data[idz, idx, idy] = np.average(raw_data)\n",
    "                        my_scan.manager.progress_bar(current=my_scan.data[idz, idx, idy],\n",
    "                                                  idy=idy,\n",
    "                                                  idx=idx,\n",
    "                                                  idz=idz,\n",
    "                                                  length=len(ranges[0]))\n",
    "\n",
    "                dataset[:, :, idy] = my_scan.data[:, :, idy]\n",
    "        else:\n",
    "            raise ValueError('The dimension of scan ranges excesses two !')\n",
    "\n",
    "        end_time = my_scan.scan_end(scan_para)\n",
    "\n",
    "        notes = my_scan.generate_notes(start_time, end_time)\n",
    "\n",
    "        for key in notes.keys():\n",
    "            dataset.attrs[key] = notes[key]\n",
    "\n",
    "    return notes\n",
    "\n",
    "def scan_2d(scan_x: int, scan_y: int):\n",
    "    scan_type = 'scan_2d'\n",
    "    scan_para_list=[scan_x, scan_y]\n",
    "    ranges = my_scan._ranges[scan_type]\n",
    "    scan_para = [my_scan.para_scan[para] for para in scan_para_list]\n",
    "    if len(ranges) == len(scan_para):\n",
    "        my_scan.data = np.zeros((len(my_scan.para_meas),) + my_scan.range_scan_dimension(ranges))\n",
    "    else:\n",
    "        raise ValueError('scan_para_list is out of range and it does not match the scan range.')\n",
    "    my_scan.manager.update_run_id()\n",
    "    data_file = my_scan.manager.create_hdf5_file\n",
    "    with h5py.File(data_file, 'a') as file:\n",
    "\n",
    "        dataset = my_scan.scan_dataset(file, ranges)\n",
    "\n",
    "        start_time = my_scan.scan_start(scan_para, ranges)\n",
    "\n",
    "#         my_scan.scan_action(range_2d, scan_xy_para, dataset)\n",
    "        if len(ranges) == 1:\n",
    "#             self.scan_action_1d(ranges, scan_para_list, dataset)\n",
    "            for idx, vx in enumerate(ranges[0]):\n",
    "                output(scan_para[0], vx)\n",
    "                time.sleep(my_scan.sleep)\n",
    "                for idz, vz in enumerate(my_scan.para_meas):\n",
    "                    raw_data = vz() / my_scan.scaler\n",
    "                    my_scan.data[idz, idx] = np.average(raw_data)\n",
    "                    # ------------------------------------------------------------------------------------------------------\n",
    "                    my_scan.manager.progress_bar(current=my_scan.data[idz, idx],\n",
    "                                              idx=idx,\n",
    "                                              idz=idz,\n",
    "                                              length=len(ranges[0]))\n",
    "                # ----------------------------------------------------------------------------------------------------------\n",
    "                dataset[:, idx] = my_scan.data[:, idx]\n",
    "        elif len(ranges) == 2:\n",
    "#             self.scan_action_2d(ranges, scan_para_list, dataset)\n",
    "            for idy, vy in enumerate(ranges[1]):\n",
    "                safe(scan_para[0], ranges[0][0])\n",
    "                output(scan_para[1], vy)\n",
    "                for idx, vx in enumerate(ranges[0]):\n",
    "                    output(scan_para[0], vx)\n",
    "                    time.sleep(my_scan.sleep)\n",
    "                    for idz, vz in enumerate(my_scan.para_meas):\n",
    "                        raw_data = vz() / my_scan.scaler\n",
    "                        my_scan.data[idz, idx, idy] = np.average(raw_data)\n",
    "                        my_scan.manager.progress_bar(current=my_scan.data[idz, idx, idy],\n",
    "                                                  idy=idy,\n",
    "                                                  idx=idx,\n",
    "                                                  idz=idz,\n",
    "                                                  length=len(ranges[0]))\n",
    "\n",
    "                dataset[:, :, idy] = my_scan.data[:, :, idy]\n",
    "        else:\n",
    "            raise ValueError('The dimension of scan ranges excesses two !')\n",
    "            \n",
    "        end_time = my_scan.scan_end(scan_para)\n",
    "\n",
    "        notes = my_scan.generate_notes(start_time, end_time)\n",
    "\n",
    "        for key in notes.keys():\n",
    "            dataset.attrs[key] = notes[key]\n",
    "\n",
    "    return notes"
   ]
  },
  {
   "cell_type": "code",
   "execution_count": null,
   "metadata": {
    "ExecuteTime": {
     "end_time": "2023-10-09T07:46:26.570287Z",
     "start_time": "2023-10-09T07:46:07.625336Z"
    }
   },
   "outputs": [],
   "source": [
    "profile = LineProfiler(scan_2d)\n",
    "profile.runcall(scan_2d, 1, 0)\n",
    "profile.print_stats()"
   ]
  },
  {
   "cell_type": "code",
   "execution_count": null,
   "metadata": {
    "ExecuteTime": {
     "end_time": "2023-10-10T04:50:51.642866Z",
     "start_time": "2023-10-10T04:50:51.633058Z"
    }
   },
   "outputs": [],
   "source": [
    "class ACQTask:\n",
    "    def __init__(self, acq_name: str):\n",
    "        self.acq = acq_name\n",
    "        self._acq_controller = {'art':self.art, 'm2p':self.m2p}\n",
    "\n",
    "    def __enter__(self):\n",
    "#         if self.acq == 'art':\n",
    "#             print('art acq')\n",
    "#         elif self.acq == 'm2p':\n",
    "#             print('m2p acq')\n",
    "        self._acq_controller[self.acq]()\n",
    "        return self\n",
    "    \n",
    "    @classmethod\n",
    "    def get_acq(cls, acq_name):\n",
    "        return getattr(cls,acq_name)\n",
    "    \n",
    "    def __exit__(self, exc_type, exc_val, exc_tb):\n",
    "        self.close()\n",
    "    \n",
    "    @staticmethod\n",
    "    def art():\n",
    "        print('art action')\n",
    "    \n",
    "    @staticmethod\n",
    "    def m2p():\n",
    "        print('m2p action')\n",
    "    \n",
    "    def close(self):\n",
    "        print('close')"
   ]
  },
  {
   "cell_type": "code",
   "execution_count": null,
   "metadata": {
    "ExecuteTime": {
     "end_time": "2023-10-10T04:50:52.170236Z",
     "start_time": "2023-10-10T04:50:52.153325Z"
    }
   },
   "outputs": [],
   "source": [
    "with ACQTask('m2p') as task:\n",
    "    print(dir(task))"
   ]
  },
  {
   "cell_type": "code",
   "execution_count": null,
   "metadata": {
    "ExecuteTime": {
     "end_time": "2023-10-10T04:50:25.352608Z",
     "start_time": "2023-10-10T04:50:25.344690Z"
    }
   },
   "outputs": [],
   "source": [
    "task = ACQTask('m2p')"
   ]
  },
  {
   "cell_type": "code",
   "execution_count": null,
   "metadata": {
    "ExecuteTime": {
     "end_time": "2023-10-10T04:50:26.397325Z",
     "start_time": "2023-10-10T04:50:26.379213Z"
    }
   },
   "outputs": [],
   "source": [
    "task.get_acq('m2p')()"
   ]
  },
  {
   "cell_type": "markdown",
   "metadata": {
    "pycharm": {
     "name": "#%% md\n"
    }
   },
   "source": [
    "# Scan v.1.3 test"
   ]
  },
  {
   "cell_type": "code",
   "execution_count": null,
   "metadata": {
    "ExecuteTime": {
     "end_time": "2023-10-23T06:31:13.674294Z",
     "start_time": "2023-10-23T06:31:13.335972Z"
    }
   },
   "outputs": [],
   "source": [
    "with pro.ACQTask(acq_name='art',\n",
    "                 acq_channels='Dev1/ai4',\n",
    "                 sample_rate=1e4,\n",
    "                 memory_size=1000) as my_task:\n",
    "    raw_data = my_task.read()\n"
   ]
  },
  {
   "cell_type": "code",
   "execution_count": null,
   "metadata": {
    "ExecuteTime": {
     "end_time": "2023-10-23T06:31:26.604274Z",
     "start_time": "2023-10-23T06:31:26.598267Z"
    },
    "pycharm": {
     "name": "#%%\n"
    }
   },
   "outputs": [],
   "source": [
    "my_project = Project(sample_name='SAQ14',\n",
    "                     temperature='mK',\n",
    "                     tester='XF')"
   ]
  },
  {
   "cell_type": "code",
   "execution_count": null,
   "metadata": {
    "ExecuteTime": {
     "end_time": "2023-10-23T06:31:27.453853Z",
     "start_time": "2023-10-23T06:31:27.448849Z"
    },
    "pycharm": {
     "name": "#%%\n"
    }
   },
   "outputs": [],
   "source": [
    "my_scan = Scan(para_meas=I_sd,\n",
    "               para_scan=[v_sd, v_g1],\n",
    "               project=my_project,\n",
    "               scaler=1e0)"
   ]
  },
  {
   "cell_type": "code",
   "execution_count": null,
   "metadata": {
    "ExecuteTime": {
     "end_time": "2023-10-23T06:31:28.011688Z",
     "start_time": "2023-10-23T06:31:28.006683Z"
    },
    "pycharm": {
     "name": "#%%\n"
    }
   },
   "outputs": [],
   "source": [
    "my_scan.set_range_1d(scan_range=scan_range)"
   ]
  },
  {
   "cell_type": "code",
   "execution_count": null,
   "metadata": {
    "ExecuteTime": {
     "end_time": "2023-10-23T06:31:40.098311Z",
     "start_time": "2023-10-23T06:31:28.831553Z"
    },
    "pycharm": {
     "name": "#%%\n"
    }
   },
   "outputs": [],
   "source": [
    "my_scan.scan_1d(scan_x=0)"
   ]
  },
  {
   "cell_type": "code",
   "execution_count": null,
   "metadata": {
    "ExecuteTime": {
     "end_time": "2023-10-23T06:31:46.488328Z",
     "start_time": "2023-10-23T06:31:46.102960Z"
    },
    "pycharm": {
     "name": "#%%\n"
    }
   },
   "outputs": [],
   "source": [
    "plt.plot(scan_range, my_scan.data[0,:])"
   ]
  },
  {
   "cell_type": "code",
   "execution_count": null,
   "metadata": {
    "ExecuteTime": {
     "end_time": "2023-10-23T06:37:16.710961Z",
     "start_time": "2023-10-23T06:37:16.703954Z"
    },
    "pycharm": {
     "name": "#%%\n"
    }
   },
   "outputs": [],
   "source": [
    "my_scan.scaler"
   ]
  },
  {
   "cell_type": "code",
   "execution_count": null,
   "metadata": {
    "ExecuteTime": {
     "end_time": "2023-10-23T06:38:00.846143Z",
     "start_time": "2023-10-23T06:38:00.840137Z"
    }
   },
   "outputs": [],
   "source": [
    "scan_x_range = np.linspace(-0.1, 0.1, 100)\n",
    "scan_y_range = np.linspace(-0.1, 0.1, 10)"
   ]
  },
  {
   "cell_type": "code",
   "execution_count": null,
   "metadata": {
    "ExecuteTime": {
     "end_time": "2023-10-23T06:38:01.605240Z",
     "start_time": "2023-10-23T06:38:01.600235Z"
    }
   },
   "outputs": [],
   "source": [
    "my_scan.set_range_2d(scan_x_range, scan_y_range)"
   ]
  },
  {
   "cell_type": "code",
   "execution_count": null,
   "metadata": {
    "ExecuteTime": {
     "end_time": "2023-10-23T06:40:11.645345Z",
     "start_time": "2023-10-23T06:38:31.199070Z"
    }
   },
   "outputs": [],
   "source": [
    "my_scan.scan_2d(scan_x=1,scan_y=0)"
   ]
  },
  {
   "cell_type": "code",
   "execution_count": null,
   "metadata": {
    "ExecuteTime": {
     "end_time": "2023-10-23T06:41:04.379926Z",
     "start_time": "2023-10-23T06:41:03.707283Z"
    }
   },
   "outputs": [],
   "source": [
    "plt.pcolormesh(my_scan.data[0,:,:])\n",
    "plt.colorbar()"
   ]
  },
  {
   "cell_type": "code",
   "execution_count": null,
   "metadata": {
    "ExecuteTime": {
     "end_time": "2023-10-23T06:08:37.150611Z",
     "start_time": "2023-10-23T06:08:36.807282Z"
    },
    "pycharm": {
     "name": "#%%\n"
    }
   },
   "outputs": [],
   "source": [
    "plt.plot(raw_data)"
   ]
  },
  {
   "cell_type": "code",
   "execution_count": null,
   "metadata": {
    "ExecuteTime": {
     "end_time": "2023-10-23T06:29:37.424588Z",
     "start_time": "2023-10-23T06:29:37.417581Z"
    },
    "pycharm": {
     "name": "#%%\n"
    }
   },
   "outputs": [],
   "source": [
    "np.average(raw_data)"
   ]
  },
  {
   "cell_type": "code",
   "execution_count": null,
   "metadata": {
    "ExecuteTime": {
     "end_time": "2023-10-23T06:31:16.586274Z",
     "start_time": "2023-10-23T06:31:16.576264Z"
    }
   },
   "outputs": [],
   "source": [
    "type(raw_data)"
   ]
  },
  {
   "cell_type": "markdown",
   "metadata": {},
   "source": [
    "# Scan v.2.1 test"
   ]
  },
  {
   "cell_type": "code",
   "execution_count": 8,
   "metadata": {
    "ExecuteTime": {
     "end_time": "2023-10-23T12:40:57.304226Z",
     "start_time": "2023-10-23T12:40:57.299221Z"
    }
   },
   "outputs": [],
   "source": [
    "my_project = Project(sample_name='SAQ14',\n",
    "                     temperature='mK',\n",
    "                     tester='XF')"
   ]
  },
  {
   "cell_type": "code",
   "execution_count": 9,
   "metadata": {
    "ExecuteTime": {
     "end_time": "2023-10-23T12:40:57.821720Z",
     "start_time": "2023-10-23T12:40:57.816715Z"
    }
   },
   "outputs": [],
   "source": [
    "my_scan = Scan(para_meas=I_sd,\n",
    "               para_scan=[v_sd, v_g1, v_R],\n",
    "               project=my_project,\n",
    "               scaler=1e0)"
   ]
  },
  {
   "cell_type": "code",
   "execution_count": 13,
   "metadata": {
    "ExecuteTime": {
     "end_time": "2023-10-23T12:42:54.432062Z",
     "start_time": "2023-10-23T12:42:54.427056Z"
    }
   },
   "outputs": [],
   "source": [
    "scan_range = np.linspace(-0.15, 0.15, 200)"
   ]
  },
  {
   "cell_type": "code",
   "execution_count": 14,
   "metadata": {
    "ExecuteTime": {
     "end_time": "2023-10-23T12:43:06.923990Z",
     "start_time": "2023-10-23T12:43:06.918985Z"
    }
   },
   "outputs": [],
   "source": [
    "my_scan.set_range_1d(scan_range=scan_range)"
   ]
  },
  {
   "cell_type": "code",
   "execution_count": 16,
   "metadata": {
    "ExecuteTime": {
     "end_time": "2023-10-23T12:44:01.635228Z",
     "start_time": "2023-10-23T12:43:41.184702Z"
    },
    "scrolled": true
   },
   "outputs": [
    {
     "name": "stdout",
     "output_type": "stream",
     "text": [
      "Start experimental run with id:3 idy:None idz:0 idx:199 --- -0.0066 A [########################################]100.0%"
     ]
    }
   ],
   "source": [
    "my_scan.scan_1d(scan_x=2)"
   ]
  },
  {
   "cell_type": "code",
   "execution_count": 17,
   "metadata": {
    "ExecuteTime": {
     "end_time": "2023-10-23T12:44:03.360876Z",
     "start_time": "2023-10-23T12:44:03.114641Z"
    },
    "scrolled": false
   },
   "outputs": [
    {
     "data": {
      "text/plain": [
       "[<matplotlib.lines.Line2D at 0x202b7ec2c88>]"
      ]
     },
     "execution_count": 17,
     "metadata": {},
     "output_type": "execute_result"
    },
    {
     "data": {
      "image/svg+xml": [
       "<?xml version=\"1.0\" encoding=\"utf-8\" standalone=\"no\"?>\n",
       "<!DOCTYPE svg PUBLIC \"-//W3C//DTD SVG 1.1//EN\"\n",
       "  \"http://www.w3.org/Graphics/SVG/1.1/DTD/svg11.dtd\">\n",
       "<svg xmlns:xlink=\"http://www.w3.org/1999/xlink\" width=\"399.570312pt\" height=\"249.887028pt\" viewBox=\"0 0 399.570312 249.887028\" xmlns=\"http://www.w3.org/2000/svg\" version=\"1.1\">\n",
       " <metadata>\n",
       "  <rdf:RDF xmlns:dc=\"http://purl.org/dc/elements/1.1/\" xmlns:cc=\"http://creativecommons.org/ns#\" xmlns:rdf=\"http://www.w3.org/1999/02/22-rdf-syntax-ns#\">\n",
       "   <cc:Work>\n",
       "    <dc:type rdf:resource=\"http://purl.org/dc/dcmitype/StillImage\"/>\n",
       "    <dc:date>2023-10-23T20:44:03.283802</dc:date>\n",
       "    <dc:format>image/svg+xml</dc:format>\n",
       "    <dc:creator>\n",
       "     <cc:Agent>\n",
       "      <dc:title>Matplotlib v3.5.2, https://matplotlib.org/</dc:title>\n",
       "     </cc:Agent>\n",
       "    </dc:creator>\n",
       "   </cc:Work>\n",
       "  </rdf:RDF>\n",
       " </metadata>\n",
       " <defs>\n",
       "  <style type=\"text/css\">*{stroke-linejoin: round; stroke-linecap: butt}</style>\n",
       " </defs>\n",
       " <g id=\"figure_1\">\n",
       "  <g id=\"patch_1\">\n",
       "   <path d=\"M 0 249.887028 \n",
       "L 399.570312 249.887028 \n",
       "L 399.570312 0 \n",
       "L 0 0 \n",
       "L 0 249.887028 \n",
       "z\n",
       "\" style=\"fill: none\"/>\n",
       "  </g>\n",
       "  <g id=\"axes_1\">\n",
       "   <g id=\"patch_2\">\n",
       "    <path d=\"M 57.570313 226.008903 \n",
       "L 392.370313 226.008903 \n",
       "L 392.370313 8.568903 \n",
       "L 57.570313 8.568903 \n",
       "z\n",
       "\" style=\"fill: #ffffff\"/>\n",
       "   </g>\n",
       "   <g id=\"matplotlib.axis_1\">\n",
       "    <g id=\"xtick_1\">\n",
       "     <g id=\"line2d_1\">\n",
       "      <defs>\n",
       "       <path id=\"m29f4864cff\" d=\"M 0 0 \n",
       "L 0 3.5 \n",
       "\" style=\"stroke: #000000; stroke-width: 0.8\"/>\n",
       "      </defs>\n",
       "      <g>\n",
       "       <use xlink:href=\"#m29f4864cff\" x=\"72.788494\" y=\"226.008903\" style=\"stroke: #000000; stroke-width: 0.8\"/>\n",
       "      </g>\n",
       "     </g>\n",
       "     <g id=\"text_1\">\n",
       "      <!-- −0.15 -->\n",
       "      <g transform=\"translate(57.465838 240.60734)scale(0.1 -0.1)\">\n",
       "       <defs>\n",
       "        <path id=\"DejaVuSans-2212\" d=\"M 678 2272 \n",
       "L 4684 2272 \n",
       "L 4684 1741 \n",
       "L 678 1741 \n",
       "L 678 2272 \n",
       "z\n",
       "\" transform=\"scale(0.015625)\"/>\n",
       "        <path id=\"DejaVuSans-30\" d=\"M 2034 4250 \n",
       "Q 1547 4250 1301 3770 \n",
       "Q 1056 3291 1056 2328 \n",
       "Q 1056 1369 1301 889 \n",
       "Q 1547 409 2034 409 \n",
       "Q 2525 409 2770 889 \n",
       "Q 3016 1369 3016 2328 \n",
       "Q 3016 3291 2770 3770 \n",
       "Q 2525 4250 2034 4250 \n",
       "z\n",
       "M 2034 4750 \n",
       "Q 2819 4750 3233 4129 \n",
       "Q 3647 3509 3647 2328 \n",
       "Q 3647 1150 3233 529 \n",
       "Q 2819 -91 2034 -91 \n",
       "Q 1250 -91 836 529 \n",
       "Q 422 1150 422 2328 \n",
       "Q 422 3509 836 4129 \n",
       "Q 1250 4750 2034 4750 \n",
       "z\n",
       "\" transform=\"scale(0.015625)\"/>\n",
       "        <path id=\"DejaVuSans-2e\" d=\"M 684 794 \n",
       "L 1344 794 \n",
       "L 1344 0 \n",
       "L 684 0 \n",
       "L 684 794 \n",
       "z\n",
       "\" transform=\"scale(0.015625)\"/>\n",
       "        <path id=\"DejaVuSans-31\" d=\"M 794 531 \n",
       "L 1825 531 \n",
       "L 1825 4091 \n",
       "L 703 3866 \n",
       "L 703 4441 \n",
       "L 1819 4666 \n",
       "L 2450 4666 \n",
       "L 2450 531 \n",
       "L 3481 531 \n",
       "L 3481 0 \n",
       "L 794 0 \n",
       "L 794 531 \n",
       "z\n",
       "\" transform=\"scale(0.015625)\"/>\n",
       "        <path id=\"DejaVuSans-35\" d=\"M 691 4666 \n",
       "L 3169 4666 \n",
       "L 3169 4134 \n",
       "L 1269 4134 \n",
       "L 1269 2991 \n",
       "Q 1406 3038 1543 3061 \n",
       "Q 1681 3084 1819 3084 \n",
       "Q 2600 3084 3056 2656 \n",
       "Q 3513 2228 3513 1497 \n",
       "Q 3513 744 3044 326 \n",
       "Q 2575 -91 1722 -91 \n",
       "Q 1428 -91 1123 -41 \n",
       "Q 819 9 494 109 \n",
       "L 494 744 \n",
       "Q 775 591 1075 516 \n",
       "Q 1375 441 1709 441 \n",
       "Q 2250 441 2565 725 \n",
       "Q 2881 1009 2881 1497 \n",
       "Q 2881 1984 2565 2268 \n",
       "Q 2250 2553 1709 2553 \n",
       "Q 1456 2553 1204 2497 \n",
       "Q 953 2441 691 2322 \n",
       "L 691 4666 \n",
       "z\n",
       "\" transform=\"scale(0.015625)\"/>\n",
       "       </defs>\n",
       "       <use xlink:href=\"#DejaVuSans-2212\"/>\n",
       "       <use xlink:href=\"#DejaVuSans-30\" x=\"83.789062\"/>\n",
       "       <use xlink:href=\"#DejaVuSans-2e\" x=\"147.412109\"/>\n",
       "       <use xlink:href=\"#DejaVuSans-31\" x=\"179.199219\"/>\n",
       "       <use xlink:href=\"#DejaVuSans-35\" x=\"242.822266\"/>\n",
       "      </g>\n",
       "     </g>\n",
       "    </g>\n",
       "    <g id=\"xtick_2\">\n",
       "     <g id=\"line2d_2\">\n",
       "      <g>\n",
       "       <use xlink:href=\"#m29f4864cff\" x=\"123.515767\" y=\"226.008903\" style=\"stroke: #000000; stroke-width: 0.8\"/>\n",
       "      </g>\n",
       "     </g>\n",
       "     <g id=\"text_2\">\n",
       "      <!-- −0.10 -->\n",
       "      <g transform=\"translate(108.193111 240.60734)scale(0.1 -0.1)\">\n",
       "       <use xlink:href=\"#DejaVuSans-2212\"/>\n",
       "       <use xlink:href=\"#DejaVuSans-30\" x=\"83.789062\"/>\n",
       "       <use xlink:href=\"#DejaVuSans-2e\" x=\"147.412109\"/>\n",
       "       <use xlink:href=\"#DejaVuSans-31\" x=\"179.199219\"/>\n",
       "       <use xlink:href=\"#DejaVuSans-30\" x=\"242.822266\"/>\n",
       "      </g>\n",
       "     </g>\n",
       "    </g>\n",
       "    <g id=\"xtick_3\">\n",
       "     <g id=\"line2d_3\">\n",
       "      <g>\n",
       "       <use xlink:href=\"#m29f4864cff\" x=\"174.24304\" y=\"226.008903\" style=\"stroke: #000000; stroke-width: 0.8\"/>\n",
       "      </g>\n",
       "     </g>\n",
       "     <g id=\"text_3\">\n",
       "      <!-- −0.05 -->\n",
       "      <g transform=\"translate(158.920384 240.60734)scale(0.1 -0.1)\">\n",
       "       <use xlink:href=\"#DejaVuSans-2212\"/>\n",
       "       <use xlink:href=\"#DejaVuSans-30\" x=\"83.789062\"/>\n",
       "       <use xlink:href=\"#DejaVuSans-2e\" x=\"147.412109\"/>\n",
       "       <use xlink:href=\"#DejaVuSans-30\" x=\"179.199219\"/>\n",
       "       <use xlink:href=\"#DejaVuSans-35\" x=\"242.822266\"/>\n",
       "      </g>\n",
       "     </g>\n",
       "    </g>\n",
       "    <g id=\"xtick_4\">\n",
       "     <g id=\"line2d_4\">\n",
       "      <g>\n",
       "       <use xlink:href=\"#m29f4864cff\" x=\"224.970313\" y=\"226.008903\" style=\"stroke: #000000; stroke-width: 0.8\"/>\n",
       "      </g>\n",
       "     </g>\n",
       "     <g id=\"text_4\">\n",
       "      <!-- 0.00 -->\n",
       "      <g transform=\"translate(213.8375 240.60734)scale(0.1 -0.1)\">\n",
       "       <use xlink:href=\"#DejaVuSans-30\"/>\n",
       "       <use xlink:href=\"#DejaVuSans-2e\" x=\"63.623047\"/>\n",
       "       <use xlink:href=\"#DejaVuSans-30\" x=\"95.410156\"/>\n",
       "       <use xlink:href=\"#DejaVuSans-30\" x=\"159.033203\"/>\n",
       "      </g>\n",
       "     </g>\n",
       "    </g>\n",
       "    <g id=\"xtick_5\">\n",
       "     <g id=\"line2d_5\">\n",
       "      <g>\n",
       "       <use xlink:href=\"#m29f4864cff\" x=\"275.697585\" y=\"226.008903\" style=\"stroke: #000000; stroke-width: 0.8\"/>\n",
       "      </g>\n",
       "     </g>\n",
       "     <g id=\"text_5\">\n",
       "      <!-- 0.05 -->\n",
       "      <g transform=\"translate(264.564773 240.60734)scale(0.1 -0.1)\">\n",
       "       <use xlink:href=\"#DejaVuSans-30\"/>\n",
       "       <use xlink:href=\"#DejaVuSans-2e\" x=\"63.623047\"/>\n",
       "       <use xlink:href=\"#DejaVuSans-30\" x=\"95.410156\"/>\n",
       "       <use xlink:href=\"#DejaVuSans-35\" x=\"159.033203\"/>\n",
       "      </g>\n",
       "     </g>\n",
       "    </g>\n",
       "    <g id=\"xtick_6\">\n",
       "     <g id=\"line2d_6\">\n",
       "      <g>\n",
       "       <use xlink:href=\"#m29f4864cff\" x=\"326.424858\" y=\"226.008903\" style=\"stroke: #000000; stroke-width: 0.8\"/>\n",
       "      </g>\n",
       "     </g>\n",
       "     <g id=\"text_6\">\n",
       "      <!-- 0.10 -->\n",
       "      <g transform=\"translate(315.292045 240.60734)scale(0.1 -0.1)\">\n",
       "       <use xlink:href=\"#DejaVuSans-30\"/>\n",
       "       <use xlink:href=\"#DejaVuSans-2e\" x=\"63.623047\"/>\n",
       "       <use xlink:href=\"#DejaVuSans-31\" x=\"95.410156\"/>\n",
       "       <use xlink:href=\"#DejaVuSans-30\" x=\"159.033203\"/>\n",
       "      </g>\n",
       "     </g>\n",
       "    </g>\n",
       "    <g id=\"xtick_7\">\n",
       "     <g id=\"line2d_7\">\n",
       "      <g>\n",
       "       <use xlink:href=\"#m29f4864cff\" x=\"377.152131\" y=\"226.008903\" style=\"stroke: #000000; stroke-width: 0.8\"/>\n",
       "      </g>\n",
       "     </g>\n",
       "     <g id=\"text_7\">\n",
       "      <!-- 0.15 -->\n",
       "      <g transform=\"translate(366.019318 240.60734)scale(0.1 -0.1)\">\n",
       "       <use xlink:href=\"#DejaVuSans-30\"/>\n",
       "       <use xlink:href=\"#DejaVuSans-2e\" x=\"63.623047\"/>\n",
       "       <use xlink:href=\"#DejaVuSans-31\" x=\"95.410156\"/>\n",
       "       <use xlink:href=\"#DejaVuSans-35\" x=\"159.033203\"/>\n",
       "      </g>\n",
       "     </g>\n",
       "    </g>\n",
       "   </g>\n",
       "   <g id=\"matplotlib.axis_2\">\n",
       "    <g id=\"ytick_1\">\n",
       "     <g id=\"line2d_8\">\n",
       "      <defs>\n",
       "       <path id=\"me321e9ef8e\" d=\"M 0 0 \n",
       "L -3.5 0 \n",
       "\" style=\"stroke: #000000; stroke-width: 0.8\"/>\n",
       "      </defs>\n",
       "      <g>\n",
       "       <use xlink:href=\"#me321e9ef8e\" x=\"57.570313\" y=\"208.978166\" style=\"stroke: #000000; stroke-width: 0.8\"/>\n",
       "      </g>\n",
       "     </g>\n",
       "     <g id=\"text_8\">\n",
       "      <!-- −0.0095 -->\n",
       "      <g transform=\"translate(7.2 212.777385)scale(0.1 -0.1)\">\n",
       "       <defs>\n",
       "        <path id=\"DejaVuSans-39\" d=\"M 703 97 \n",
       "L 703 672 \n",
       "Q 941 559 1184 500 \n",
       "Q 1428 441 1663 441 \n",
       "Q 2288 441 2617 861 \n",
       "Q 2947 1281 2994 2138 \n",
       "Q 2813 1869 2534 1725 \n",
       "Q 2256 1581 1919 1581 \n",
       "Q 1219 1581 811 2004 \n",
       "Q 403 2428 403 3163 \n",
       "Q 403 3881 828 4315 \n",
       "Q 1253 4750 1959 4750 \n",
       "Q 2769 4750 3195 4129 \n",
       "Q 3622 3509 3622 2328 \n",
       "Q 3622 1225 3098 567 \n",
       "Q 2575 -91 1691 -91 \n",
       "Q 1453 -91 1209 -44 \n",
       "Q 966 3 703 97 \n",
       "z\n",
       "M 1959 2075 \n",
       "Q 2384 2075 2632 2365 \n",
       "Q 2881 2656 2881 3163 \n",
       "Q 2881 3666 2632 3958 \n",
       "Q 2384 4250 1959 4250 \n",
       "Q 1534 4250 1286 3958 \n",
       "Q 1038 3666 1038 3163 \n",
       "Q 1038 2656 1286 2365 \n",
       "Q 1534 2075 1959 2075 \n",
       "z\n",
       "\" transform=\"scale(0.015625)\"/>\n",
       "       </defs>\n",
       "       <use xlink:href=\"#DejaVuSans-2212\"/>\n",
       "       <use xlink:href=\"#DejaVuSans-30\" x=\"83.789062\"/>\n",
       "       <use xlink:href=\"#DejaVuSans-2e\" x=\"147.412109\"/>\n",
       "       <use xlink:href=\"#DejaVuSans-30\" x=\"179.199219\"/>\n",
       "       <use xlink:href=\"#DejaVuSans-30\" x=\"242.822266\"/>\n",
       "       <use xlink:href=\"#DejaVuSans-39\" x=\"306.445312\"/>\n",
       "       <use xlink:href=\"#DejaVuSans-35\" x=\"370.068359\"/>\n",
       "      </g>\n",
       "     </g>\n",
       "    </g>\n",
       "    <g id=\"ytick_2\">\n",
       "     <g id=\"line2d_9\">\n",
       "      <g>\n",
       "       <use xlink:href=\"#me321e9ef8e\" x=\"57.570313\" y=\"175.981675\" style=\"stroke: #000000; stroke-width: 0.8\"/>\n",
       "      </g>\n",
       "     </g>\n",
       "     <g id=\"text_9\">\n",
       "      <!-- −0.0090 -->\n",
       "      <g transform=\"translate(7.2 179.780894)scale(0.1 -0.1)\">\n",
       "       <use xlink:href=\"#DejaVuSans-2212\"/>\n",
       "       <use xlink:href=\"#DejaVuSans-30\" x=\"83.789062\"/>\n",
       "       <use xlink:href=\"#DejaVuSans-2e\" x=\"147.412109\"/>\n",
       "       <use xlink:href=\"#DejaVuSans-30\" x=\"179.199219\"/>\n",
       "       <use xlink:href=\"#DejaVuSans-30\" x=\"242.822266\"/>\n",
       "       <use xlink:href=\"#DejaVuSans-39\" x=\"306.445312\"/>\n",
       "       <use xlink:href=\"#DejaVuSans-30\" x=\"370.068359\"/>\n",
       "      </g>\n",
       "     </g>\n",
       "    </g>\n",
       "    <g id=\"ytick_3\">\n",
       "     <g id=\"line2d_10\">\n",
       "      <g>\n",
       "       <use xlink:href=\"#me321e9ef8e\" x=\"57.570313\" y=\"142.985184\" style=\"stroke: #000000; stroke-width: 0.8\"/>\n",
       "      </g>\n",
       "     </g>\n",
       "     <g id=\"text_10\">\n",
       "      <!-- −0.0085 -->\n",
       "      <g transform=\"translate(7.2 146.784403)scale(0.1 -0.1)\">\n",
       "       <defs>\n",
       "        <path id=\"DejaVuSans-38\" d=\"M 2034 2216 \n",
       "Q 1584 2216 1326 1975 \n",
       "Q 1069 1734 1069 1313 \n",
       "Q 1069 891 1326 650 \n",
       "Q 1584 409 2034 409 \n",
       "Q 2484 409 2743 651 \n",
       "Q 3003 894 3003 1313 \n",
       "Q 3003 1734 2745 1975 \n",
       "Q 2488 2216 2034 2216 \n",
       "z\n",
       "M 1403 2484 \n",
       "Q 997 2584 770 2862 \n",
       "Q 544 3141 544 3541 \n",
       "Q 544 4100 942 4425 \n",
       "Q 1341 4750 2034 4750 \n",
       "Q 2731 4750 3128 4425 \n",
       "Q 3525 4100 3525 3541 \n",
       "Q 3525 3141 3298 2862 \n",
       "Q 3072 2584 2669 2484 \n",
       "Q 3125 2378 3379 2068 \n",
       "Q 3634 1759 3634 1313 \n",
       "Q 3634 634 3220 271 \n",
       "Q 2806 -91 2034 -91 \n",
       "Q 1263 -91 848 271 \n",
       "Q 434 634 434 1313 \n",
       "Q 434 1759 690 2068 \n",
       "Q 947 2378 1403 2484 \n",
       "z\n",
       "M 1172 3481 \n",
       "Q 1172 3119 1398 2916 \n",
       "Q 1625 2713 2034 2713 \n",
       "Q 2441 2713 2670 2916 \n",
       "Q 2900 3119 2900 3481 \n",
       "Q 2900 3844 2670 4047 \n",
       "Q 2441 4250 2034 4250 \n",
       "Q 1625 4250 1398 4047 \n",
       "Q 1172 3844 1172 3481 \n",
       "z\n",
       "\" transform=\"scale(0.015625)\"/>\n",
       "       </defs>\n",
       "       <use xlink:href=\"#DejaVuSans-2212\"/>\n",
       "       <use xlink:href=\"#DejaVuSans-30\" x=\"83.789062\"/>\n",
       "       <use xlink:href=\"#DejaVuSans-2e\" x=\"147.412109\"/>\n",
       "       <use xlink:href=\"#DejaVuSans-30\" x=\"179.199219\"/>\n",
       "       <use xlink:href=\"#DejaVuSans-30\" x=\"242.822266\"/>\n",
       "       <use xlink:href=\"#DejaVuSans-38\" x=\"306.445312\"/>\n",
       "       <use xlink:href=\"#DejaVuSans-35\" x=\"370.068359\"/>\n",
       "      </g>\n",
       "     </g>\n",
       "    </g>\n",
       "    <g id=\"ytick_4\">\n",
       "     <g id=\"line2d_11\">\n",
       "      <g>\n",
       "       <use xlink:href=\"#me321e9ef8e\" x=\"57.570313\" y=\"109.988693\" style=\"stroke: #000000; stroke-width: 0.8\"/>\n",
       "      </g>\n",
       "     </g>\n",
       "     <g id=\"text_11\">\n",
       "      <!-- −0.0080 -->\n",
       "      <g transform=\"translate(7.2 113.787911)scale(0.1 -0.1)\">\n",
       "       <use xlink:href=\"#DejaVuSans-2212\"/>\n",
       "       <use xlink:href=\"#DejaVuSans-30\" x=\"83.789062\"/>\n",
       "       <use xlink:href=\"#DejaVuSans-2e\" x=\"147.412109\"/>\n",
       "       <use xlink:href=\"#DejaVuSans-30\" x=\"179.199219\"/>\n",
       "       <use xlink:href=\"#DejaVuSans-30\" x=\"242.822266\"/>\n",
       "       <use xlink:href=\"#DejaVuSans-38\" x=\"306.445312\"/>\n",
       "       <use xlink:href=\"#DejaVuSans-30\" x=\"370.068359\"/>\n",
       "      </g>\n",
       "     </g>\n",
       "    </g>\n",
       "    <g id=\"ytick_5\">\n",
       "     <g id=\"line2d_12\">\n",
       "      <g>\n",
       "       <use xlink:href=\"#me321e9ef8e\" x=\"57.570313\" y=\"76.992201\" style=\"stroke: #000000; stroke-width: 0.8\"/>\n",
       "      </g>\n",
       "     </g>\n",
       "     <g id=\"text_12\">\n",
       "      <!-- −0.0075 -->\n",
       "      <g transform=\"translate(7.2 80.79142)scale(0.1 -0.1)\">\n",
       "       <defs>\n",
       "        <path id=\"DejaVuSans-37\" d=\"M 525 4666 \n",
       "L 3525 4666 \n",
       "L 3525 4397 \n",
       "L 1831 0 \n",
       "L 1172 0 \n",
       "L 2766 4134 \n",
       "L 525 4134 \n",
       "L 525 4666 \n",
       "z\n",
       "\" transform=\"scale(0.015625)\"/>\n",
       "       </defs>\n",
       "       <use xlink:href=\"#DejaVuSans-2212\"/>\n",
       "       <use xlink:href=\"#DejaVuSans-30\" x=\"83.789062\"/>\n",
       "       <use xlink:href=\"#DejaVuSans-2e\" x=\"147.412109\"/>\n",
       "       <use xlink:href=\"#DejaVuSans-30\" x=\"179.199219\"/>\n",
       "       <use xlink:href=\"#DejaVuSans-30\" x=\"242.822266\"/>\n",
       "       <use xlink:href=\"#DejaVuSans-37\" x=\"306.445312\"/>\n",
       "       <use xlink:href=\"#DejaVuSans-35\" x=\"370.068359\"/>\n",
       "      </g>\n",
       "     </g>\n",
       "    </g>\n",
       "    <g id=\"ytick_6\">\n",
       "     <g id=\"line2d_13\">\n",
       "      <g>\n",
       "       <use xlink:href=\"#me321e9ef8e\" x=\"57.570313\" y=\"43.99571\" style=\"stroke: #000000; stroke-width: 0.8\"/>\n",
       "      </g>\n",
       "     </g>\n",
       "     <g id=\"text_13\">\n",
       "      <!-- −0.0070 -->\n",
       "      <g transform=\"translate(7.2 47.794929)scale(0.1 -0.1)\">\n",
       "       <use xlink:href=\"#DejaVuSans-2212\"/>\n",
       "       <use xlink:href=\"#DejaVuSans-30\" x=\"83.789062\"/>\n",
       "       <use xlink:href=\"#DejaVuSans-2e\" x=\"147.412109\"/>\n",
       "       <use xlink:href=\"#DejaVuSans-30\" x=\"179.199219\"/>\n",
       "       <use xlink:href=\"#DejaVuSans-30\" x=\"242.822266\"/>\n",
       "       <use xlink:href=\"#DejaVuSans-37\" x=\"306.445312\"/>\n",
       "       <use xlink:href=\"#DejaVuSans-30\" x=\"370.068359\"/>\n",
       "      </g>\n",
       "     </g>\n",
       "    </g>\n",
       "    <g id=\"ytick_7\">\n",
       "     <g id=\"line2d_14\">\n",
       "      <g>\n",
       "       <use xlink:href=\"#me321e9ef8e\" x=\"57.570313\" y=\"10.999219\" style=\"stroke: #000000; stroke-width: 0.8\"/>\n",
       "      </g>\n",
       "     </g>\n",
       "     <g id=\"text_14\">\n",
       "      <!-- −0.0065 -->\n",
       "      <g transform=\"translate(7.2 14.798438)scale(0.1 -0.1)\">\n",
       "       <defs>\n",
       "        <path id=\"DejaVuSans-36\" d=\"M 2113 2584 \n",
       "Q 1688 2584 1439 2293 \n",
       "Q 1191 2003 1191 1497 \n",
       "Q 1191 994 1439 701 \n",
       "Q 1688 409 2113 409 \n",
       "Q 2538 409 2786 701 \n",
       "Q 3034 994 3034 1497 \n",
       "Q 3034 2003 2786 2293 \n",
       "Q 2538 2584 2113 2584 \n",
       "z\n",
       "M 3366 4563 \n",
       "L 3366 3988 \n",
       "Q 3128 4100 2886 4159 \n",
       "Q 2644 4219 2406 4219 \n",
       "Q 1781 4219 1451 3797 \n",
       "Q 1122 3375 1075 2522 \n",
       "Q 1259 2794 1537 2939 \n",
       "Q 1816 3084 2150 3084 \n",
       "Q 2853 3084 3261 2657 \n",
       "Q 3669 2231 3669 1497 \n",
       "Q 3669 778 3244 343 \n",
       "Q 2819 -91 2113 -91 \n",
       "Q 1303 -91 875 529 \n",
       "Q 447 1150 447 2328 \n",
       "Q 447 3434 972 4092 \n",
       "Q 1497 4750 2381 4750 \n",
       "Q 2619 4750 2861 4703 \n",
       "Q 3103 4656 3366 4563 \n",
       "z\n",
       "\" transform=\"scale(0.015625)\"/>\n",
       "       </defs>\n",
       "       <use xlink:href=\"#DejaVuSans-2212\"/>\n",
       "       <use xlink:href=\"#DejaVuSans-30\" x=\"83.789062\"/>\n",
       "       <use xlink:href=\"#DejaVuSans-2e\" x=\"147.412109\"/>\n",
       "       <use xlink:href=\"#DejaVuSans-30\" x=\"179.199219\"/>\n",
       "       <use xlink:href=\"#DejaVuSans-30\" x=\"242.822266\"/>\n",
       "       <use xlink:href=\"#DejaVuSans-36\" x=\"306.445312\"/>\n",
       "       <use xlink:href=\"#DejaVuSans-35\" x=\"370.068359\"/>\n",
       "      </g>\n",
       "     </g>\n",
       "    </g>\n",
       "   </g>\n",
       "   <g id=\"line2d_15\">\n",
       "    <path d=\"M 72.788494 215.804826 \n",
       "L 74.31796 216.125266 \n",
       "L 75.847425 213.358759 \n",
       "L 77.376891 213.220459 \n",
       "L 78.906356 212.51407 \n",
       "L 80.435822 214.225025 \n",
       "L 81.965287 213.520285 \n",
       "L 83.494753 209.229773 \n",
       "L 85.024218 207.62725 \n",
       "L 86.553684 207.812505 \n",
       "L 88.083149 206.281904 \n",
       "L 89.612615 203.851091 \n",
       "L 91.14208 203.560611 \n",
       "L 94.201011 198.621567 \n",
       "L 95.730477 197.028848 \n",
       "L 97.259942 197.491391 \n",
       "L 98.789408 199.08324 \n",
       "L 100.318873 198.721479 \n",
       "L 101.848339 196.912078 \n",
       "L 103.377805 195.567053 \n",
       "L 104.90727 195.527794 \n",
       "L 106.436736 192.936876 \n",
       "L 107.966201 191.836338 \n",
       "L 109.495667 189.84947 \n",
       "L 111.025132 192.760874 \n",
       "L 112.554598 190.407298 \n",
       "L 114.084063 190.375093 \n",
       "L 115.613529 187.635064 \n",
       "L 117.142994 186.876406 \n",
       "L 118.67246 185.251298 \n",
       "L 120.201925 184.199915 \n",
       "L 121.731391 184.406289 \n",
       "L 123.260856 182.803078 \n",
       "L 124.790322 181.845055 \n",
       "L 126.319787 179.08913 \n",
       "L 127.849253 178.673405 \n",
       "L 129.378718 178.761085 \n",
       "L 130.908184 175.551687 \n",
       "L 132.437649 175.295014 \n",
       "L 133.967115 174.511573 \n",
       "L 135.49658 172.761909 \n",
       "L 137.026046 172.915876 \n",
       "L 140.084977 168.036294 \n",
       "L 141.614442 169.099405 \n",
       "L 143.143908 169.870157 \n",
       "L 144.673373 166.252822 \n",
       "L 146.202839 166.544677 \n",
       "L 147.732304 168.88025 \n",
       "L 150.791235 166.406239 \n",
       "L 152.320701 166.083004 \n",
       "L 153.850166 163.824941 \n",
       "L 155.379632 162.044172 \n",
       "L 156.909097 162.440245 \n",
       "L 158.438563 160.770381 \n",
       "L 159.968028 158.664315 \n",
       "L 163.026959 155.280153 \n",
       "L 164.556425 157.327261 \n",
       "L 166.08589 154.445954 \n",
       "L 167.615356 153.234694 \n",
       "L 169.144821 152.343828 \n",
       "L 170.674287 150.734159 \n",
       "L 173.733218 148.033205 \n",
       "L 175.262683 145.79168 \n",
       "L 176.792149 142.722048 \n",
       "L 178.321614 146.136858 \n",
       "L 179.85108 144.881895 \n",
       "L 181.380545 144.294016 \n",
       "L 182.910011 139.74399 \n",
       "L 184.439477 139.17778 \n",
       "L 185.968942 140.640949 \n",
       "L 187.498408 142.559514 \n",
       "L 189.027873 143.480752 \n",
       "L 190.557339 139.264773 \n",
       "L 192.086804 139.075257 \n",
       "L 193.61627 136.950135 \n",
       "L 195.145735 133.645773 \n",
       "L 196.675201 132.947767 \n",
       "L 198.204666 129.265656 \n",
       "L 199.734132 129.787386 \n",
       "L 201.263597 131.43549 \n",
       "L 202.793063 131.27291 \n",
       "L 204.322528 131.435902 \n",
       "L 205.851994 132.371386 \n",
       "L 207.381459 131.345244 \n",
       "L 208.910925 127.767259 \n",
       "L 210.44039 125.724274 \n",
       "L 211.969856 125.78685 \n",
       "L 213.499321 124.135861 \n",
       "L 215.028787 123.250446 \n",
       "L 216.558252 122.858726 \n",
       "L 218.087718 123.180357 \n",
       "L 219.617183 125.238368 \n",
       "L 221.146649 122.574383 \n",
       "L 222.676114 122.538881 \n",
       "L 224.20558 119.300302 \n",
       "L 225.735045 115.734366 \n",
       "L 227.264511 113.608327 \n",
       "L 228.793976 113.539429 \n",
       "L 230.323442 114.961964 \n",
       "L 231.852907 113.440113 \n",
       "L 233.382373 112.078046 \n",
       "L 234.911838 112.627765 \n",
       "L 236.441304 111.76466 \n",
       "L 237.970769 111.189837 \n",
       "L 239.500235 108.395615 \n",
       "L 241.0297 109.482043 \n",
       "L 242.559166 108.773364 \n",
       "L 244.088631 107.39027 \n",
       "L 245.618097 103.313095 \n",
       "L 248.677028 103.499862 \n",
       "L 250.206493 101.111653 \n",
       "L 251.735959 102.110081 \n",
       "L 253.265424 100.128297 \n",
       "L 257.853821 98.773331 \n",
       "L 259.383286 93.698278 \n",
       "L 260.912752 94.037547 \n",
       "L 262.442217 96.320942 \n",
       "L 263.971683 92.119439 \n",
       "L 265.501148 91.747921 \n",
       "L 267.030614 87.401429 \n",
       "L 268.56008 87.636296 \n",
       "L 270.089545 86.785698 \n",
       "L 271.619011 85.309656 \n",
       "L 273.148476 85.65772 \n",
       "L 274.677942 84.654299 \n",
       "L 276.207407 82.885715 \n",
       "L 279.266338 82.308098 \n",
       "L 280.795804 79.745215 \n",
       "L 282.325269 78.339767 \n",
       "L 283.854735 76.448412 \n",
       "L 285.3842 76.19632 \n",
       "L 286.913666 74.459208 \n",
       "L 288.443131 74.628659 \n",
       "L 289.972597 73.518226 \n",
       "L 291.502062 74.099233 \n",
       "L 293.031528 74.911489 \n",
       "L 294.560993 74.953863 \n",
       "L 296.090459 69.802445 \n",
       "L 297.619924 70.513965 \n",
       "L 299.14939 66.890079 \n",
       "L 300.678855 64.994739 \n",
       "L 302.208321 64.169702 \n",
       "L 303.737786 63.801894 \n",
       "L 305.267252 61.393117 \n",
       "L 306.796717 62.808048 \n",
       "L 308.326183 63.581594 \n",
       "L 309.855648 62.667182 \n",
       "L 311.385114 59.583625 \n",
       "L 312.914579 58.843199 \n",
       "L 314.444045 56.977544 \n",
       "L 315.97351 55.294166 \n",
       "L 317.502976 57.953616 \n",
       "L 319.032441 58.092007 \n",
       "L 320.561907 55.245882 \n",
       "L 322.091372 54.248005 \n",
       "L 323.620838 53.70786 \n",
       "L 325.150303 51.177136 \n",
       "L 326.679769 52.894276 \n",
       "L 328.209234 52.377265 \n",
       "L 329.7387 52.994233 \n",
       "L 331.268165 48.790851 \n",
       "L 332.797631 47.056212 \n",
       "L 334.327096 46.517121 \n",
       "L 335.856562 46.134792 \n",
       "L 337.386027 45.930754 \n",
       "L 338.915493 45.382501 \n",
       "L 340.444958 43.86184 \n",
       "L 341.974424 41.859443 \n",
       "L 343.503889 44.99701 \n",
       "L 345.033355 42.660567 \n",
       "L 346.56282 43.079727 \n",
       "L 348.092286 42.580399 \n",
       "L 349.621752 37.028007 \n",
       "L 351.151217 37.445977 \n",
       "L 352.680683 35.108983 \n",
       "L 354.210148 34.43828 \n",
       "L 355.739614 34.701733 \n",
       "L 357.269079 34.274555 \n",
       "L 358.798545 32.141828 \n",
       "L 360.32801 30.950495 \n",
       "L 361.857476 29.935118 \n",
       "L 363.386941 26.803277 \n",
       "L 364.916407 27.297153 \n",
       "L 366.445872 25.341848 \n",
       "L 367.975338 25.818821 \n",
       "L 369.504803 24.75965 \n",
       "L 371.034269 22.330075 \n",
       "L 372.563734 21.652225 \n",
       "L 374.0932 21.22743 \n",
       "L 375.622665 22.27469 \n",
       "L 377.152131 18.452539 \n",
       "L 377.152131 18.452539 \n",
       "\" clip-path=\"url(#pf95d46e7a7)\" style=\"fill: none; stroke: #1f77b4; stroke-width: 1.5; stroke-linecap: square\"/>\n",
       "   </g>\n",
       "   <g id=\"patch_3\">\n",
       "    <path d=\"M 57.570313 226.008903 \n",
       "L 57.570313 8.568903 \n",
       "\" style=\"fill: none; stroke: #000000; stroke-width: 0.8; stroke-linejoin: miter; stroke-linecap: square\"/>\n",
       "   </g>\n",
       "   <g id=\"patch_4\">\n",
       "    <path d=\"M 392.370313 226.008903 \n",
       "L 392.370313 8.568903 \n",
       "\" style=\"fill: none; stroke: #000000; stroke-width: 0.8; stroke-linejoin: miter; stroke-linecap: square\"/>\n",
       "   </g>\n",
       "   <g id=\"patch_5\">\n",
       "    <path d=\"M 57.570312 226.008903 \n",
       "L 392.370313 226.008903 \n",
       "\" style=\"fill: none; stroke: #000000; stroke-width: 0.8; stroke-linejoin: miter; stroke-linecap: square\"/>\n",
       "   </g>\n",
       "   <g id=\"patch_6\">\n",
       "    <path d=\"M 57.570312 8.568903 \n",
       "L 392.370313 8.568903 \n",
       "\" style=\"fill: none; stroke: #000000; stroke-width: 0.8; stroke-linejoin: miter; stroke-linecap: square\"/>\n",
       "   </g>\n",
       "  </g>\n",
       " </g>\n",
       " <defs>\n",
       "  <clipPath id=\"pf95d46e7a7\">\n",
       "   <rect x=\"57.570313\" y=\"8.568903\" width=\"334.8\" height=\"217.44\"/>\n",
       "  </clipPath>\n",
       " </defs>\n",
       "</svg>\n"
      ],
      "text/plain": [
       "<Figure size 432x288 with 1 Axes>"
      ]
     },
     "metadata": {
      "needs_background": "light"
     },
     "output_type": "display_data"
    }
   ],
   "source": [
    "plt.plot(scan_range, my_scan.data[0,:])"
   ]
  },
  {
   "cell_type": "code",
   "execution_count": 33,
   "metadata": {
    "ExecuteTime": {
     "end_time": "2023-10-23T12:40:17.331805Z",
     "start_time": "2023-10-23T12:40:17.327801Z"
    }
   },
   "outputs": [],
   "source": [
    "del my_scan, my_project"
   ]
  },
  {
   "cell_type": "code",
   "execution_count": 34,
   "metadata": {
    "ExecuteTime": {
     "end_time": "2023-10-23T12:40:29.755667Z",
     "start_time": "2023-10-23T12:40:29.747660Z"
    }
   },
   "outputs": [],
   "source": [
    "dac.close()"
   ]
  },
  {
   "cell_type": "code",
   "execution_count": null,
   "metadata": {},
   "outputs": [],
   "source": []
  },
  {
   "cell_type": "markdown",
   "metadata": {},
   "source": [
    "## ToDo:\n",
    "1. 采集卡的参数的调整接口\n",
    "2. 仪器的安全接口设计\n",
    "3. 在已有的基础上完成画图的接口衔接，拟合分开到analysis里"
   ]
  },
  {
   "cell_type": "code",
   "execution_count": null,
   "metadata": {},
   "outputs": [],
   "source": []
  }
 ],
 "metadata": {
  "kernelspec": {
   "display_name": "PyCharm (SpinQuantumControlMeasurement)",
   "language": "python",
   "name": "pycharm-6e0f8de9"
  },
  "language_info": {
   "codemirror_mode": {
    "name": "ipython",
    "version": 3
   },
   "file_extension": ".py",
   "mimetype": "text/x-python",
   "name": "python",
   "nbconvert_exporter": "python",
   "pygments_lexer": "ipython3",
   "version": "3.7.0"
  },
  "toc": {
   "base_numbering": 1,
   "nav_menu": {},
   "number_sections": true,
   "sideBar": true,
   "skip_h1_title": false,
   "title_cell": "Table of Contents",
   "title_sidebar": "Contents",
   "toc_cell": false,
   "toc_position": {
    "height": "calc(100% - 180px)",
    "left": "10px",
    "top": "150px",
    "width": "465.455px"
   },
   "toc_section_display": true,
   "toc_window_display": true
  }
 },
 "nbformat": 4,
 "nbformat_minor": 1
}
