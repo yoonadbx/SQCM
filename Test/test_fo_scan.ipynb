{
 "cells": [
  {
   "cell_type": "markdown",
   "metadata": {},
   "source": [
    "# Test preparation"
   ]
  },
  {
   "cell_type": "code",
   "execution_count": null,
   "metadata": {
    "ExecuteTime": {
     "end_time": "2023-10-23T06:31:06.971823Z",
     "start_time": "2023-10-23T06:31:04.993935Z"
    }
   },
   "outputs": [],
   "source": [
    "import matplotlib\n",
    "import matplotlib.pyplot as plt\n",
    "%matplotlib inline\n",
    "%config InlineBackend.figure_format = 'svg'"
   ]
  },
  {
   "cell_type": "code",
   "execution_count": null,
   "metadata": {
    "ExecuteTime": {
     "end_time": "2023-10-23T06:31:08.898663Z",
     "start_time": "2023-10-23T06:31:06.978830Z"
    }
   },
   "outputs": [],
   "source": [
    "from qcodes.utils.validators import Numbers\n",
    "from qcodes.instrument import Parameter\n",
    "from tools import *\n",
    "import tools.project as pro\n",
    "from random import random, gauss\n",
    "import numpy as np"
   ]
  },
  {
   "cell_type": "markdown",
   "metadata": {},
   "source": [
    "## Instruments"
   ]
  },
  {
   "cell_type": "code",
   "execution_count": 1,
   "metadata": {
    "ExecuteTime": {
     "end_time": "2023-10-23T06:56:17.708363Z",
     "start_time": "2023-10-23T06:56:14.322131Z"
    }
   },
   "outputs": [],
   "source": [
    "from DAC_SP1060 import DAC_SP1060"
   ]
  },
  {
   "cell_type": "code",
   "execution_count": 13,
   "metadata": {
    "ExecuteTime": {
     "end_time": "2023-10-23T07:04:31.794401Z",
     "start_time": "2023-10-23T07:04:31.686299Z"
    }
   },
   "outputs": [],
   "source": [
    "dac = DAC_SP1060('sp1060','TCPIP0::192.168.31.5::23::SOCKET')"
   ]
  },
  {
   "cell_type": "code",
   "execution_count": null,
   "metadata": {
    "ExecuteTime": {
     "end_time": "2023-10-23T06:31:08.912676Z",
     "start_time": "2023-10-23T06:31:08.902667Z"
    },
    "pycharm": {
     "name": "#%%\n"
    }
   },
   "outputs": [],
   "source": [
    "def dummyset(voltage):\n",
    "    return voltage\n",
    "\n",
    "\n",
    "def dummyget():\n",
    "    return gauss(10,5)\n"
   ]
  },
  {
   "cell_type": "code",
   "execution_count": null,
   "metadata": {
    "ExecuteTime": {
     "end_time": "2023-10-23T06:31:08.929693Z",
     "start_time": "2023-10-23T06:31:08.916680Z"
    },
    "pycharm": {
     "name": "#%%\n"
    }
   },
   "outputs": [],
   "source": [
    "I_sd = Parameter(name='I_sd', label='SET current', unit='A', set_cmd=None, get_cmd=dummyget)\n",
    "v_sd = Parameter(name='v_sd', label='SET sd', unit='V', initial_value=0,\n",
    "                 set_cmd=dummyset, get_cmd=None, vals=Numbers(max_value=1, min_value=-1))\n",
    "v_g1 = Parameter(name='v_g1', label='Gate 1', unit='V', initial_value=0,\n",
    "                 set_cmd=dummyset, get_cmd=None, vals=Numbers(max_value=1, min_value=-1))\n",
    "v_R = Parameter(name = 'v_R', label = 'Resistance vlotage', unit = 'V',\n",
    "                 set_cmd = dac.ch12.voltage, get_cmd = dac.ch12.voltage, vals = Numbers(max_value=0.01, min_value=-0.01))"
   ]
  },
  {
   "cell_type": "code",
   "execution_count": null,
   "metadata": {
    "ExecuteTime": {
     "end_time": "2023-10-23T06:31:08.941705Z",
     "start_time": "2023-10-23T06:31:08.932695Z"
    },
    "pycharm": {
     "name": "#%%\n"
    }
   },
   "outputs": [],
   "source": [
    "scan_range = np.linspace(-1, 1, 100)"
   ]
  },
  {
   "cell_type": "markdown",
   "metadata": {},
   "source": [
    "# scan v.1.1 test"
   ]
  },
  {
   "cell_type": "code",
   "execution_count": null,
   "metadata": {
    "ExecuteTime": {
     "end_time": "2023-09-21T08:38:44.255850Z",
     "start_time": "2023-09-21T08:38:44.239169Z"
    },
    "pycharm": {
     "name": "#%%\n"
    }
   },
   "outputs": [],
   "source": [
    "my_scan = Scan(para_meas=I_sd,\n",
    "               para_scan=v_sd,\n",
    "               range_scan=scan_range,\n",
    "               data_manager=my_manager,\n",
    "               logger=my_logger,\n",
    "               scaler=1e9)"
   ]
  },
  {
   "cell_type": "code",
   "execution_count": null,
   "metadata": {
    "ExecuteTime": {
     "end_time": "2023-09-21T08:38:49.541149Z",
     "start_time": "2023-09-21T08:38:44.861919Z"
    },
    "pycharm": {
     "is_executing": false,
     "name": "#%%\n"
    }
   },
   "outputs": [],
   "source": [
    "my_scan.scan_1d(range_scan_x=0)\n"
   ]
  },
  {
   "cell_type": "markdown",
   "metadata": {
    "pycharm": {
     "name": "#%%\n"
    }
   },
   "source": [
    "# Scan v.1.2 test\n"
   ]
  },
  {
   "cell_type": "code",
   "execution_count": null,
   "metadata": {
    "ExecuteTime": {
     "end_time": "2023-10-08T16:45:34.947610Z",
     "start_time": "2023-10-08T16:45:34.934115Z"
    }
   },
   "outputs": [],
   "source": [
    "my_scan = Scan(para_meas=I_sd,\n",
    "               para_scan=[v_sd,v_g1],\n",
    "               data_manager=my_manager,\n",
    "               logger=my_logger,\n",
    "               scaler=1e9)"
   ]
  },
  {
   "cell_type": "code",
   "execution_count": null,
   "metadata": {
    "ExecuteTime": {
     "end_time": "2023-10-08T16:45:36.528799Z",
     "start_time": "2023-10-08T16:45:36.521191Z"
    }
   },
   "outputs": [],
   "source": [
    "my_scan.set_range_1d(scan_range)"
   ]
  },
  {
   "cell_type": "code",
   "execution_count": null,
   "metadata": {
    "ExecuteTime": {
     "end_time": "2023-10-08T16:45:37.558594Z",
     "start_time": "2023-10-08T16:45:37.554134Z"
    }
   },
   "outputs": [],
   "source": [
    "my_scan._ranges"
   ]
  },
  {
   "cell_type": "code",
   "execution_count": null,
   "metadata": {
    "ExecuteTime": {
     "end_time": "2023-10-08T16:45:43.903604Z",
     "start_time": "2023-10-08T16:45:39.189170Z"
    }
   },
   "outputs": [],
   "source": [
    "my_scan.scan_1d(scan_x=1)"
   ]
  },
  {
   "cell_type": "code",
   "execution_count": null,
   "metadata": {
    "ExecuteTime": {
     "end_time": "2023-10-08T16:26:17.584388Z",
     "start_time": "2023-10-08T16:26:17.408560Z"
    }
   },
   "outputs": [],
   "source": [
    "plt.plot(scan_range, my_scan.data[0,:])"
   ]
  },
  {
   "cell_type": "code",
   "execution_count": null,
   "metadata": {
    "ExecuteTime": {
     "end_time": "2023-10-09T07:45:58.298386Z",
     "start_time": "2023-10-09T07:45:58.289816Z"
    }
   },
   "outputs": [],
   "source": [
    "scan_x_range = np.linspace(-0.1, 0.1, 100)\n",
    "scan_y_range = np.linspace(-0.1, 0.1, 10)"
   ]
  },
  {
   "cell_type": "code",
   "execution_count": null,
   "metadata": {
    "ExecuteTime": {
     "end_time": "2023-10-09T07:45:58.840524Z",
     "start_time": "2023-10-09T07:45:58.823449Z"
    }
   },
   "outputs": [],
   "source": [
    "my_scan.set_range_2d(scan_x_range, scan_y_range)"
   ]
  },
  {
   "cell_type": "code",
   "execution_count": null,
   "metadata": {
    "ExecuteTime": {
     "end_time": "2023-10-08T16:53:52.022487Z",
     "start_time": "2023-10-08T16:46:01.022527Z"
    }
   },
   "outputs": [],
   "source": [
    "my_scan.scan_2d(scan_x=1,scan_y=0)"
   ]
  },
  {
   "cell_type": "code",
   "execution_count": null,
   "metadata": {
    "ExecuteTime": {
     "end_time": "2023-10-08T16:42:05.910908Z",
     "start_time": "2023-10-08T16:42:05.894880Z"
    }
   },
   "outputs": [],
   "source": [
    "my_manager.id"
   ]
  },
  {
   "cell_type": "code",
   "execution_count": null,
   "metadata": {
    "ExecuteTime": {
     "end_time": "2023-10-08T16:41:58.111335Z",
     "start_time": "2023-10-08T16:41:57.255032Z"
    }
   },
   "outputs": [],
   "source": [
    "plt.pcolormesh(my_scan.data[0,:,:])\n",
    "plt.colorbar()"
   ]
  },
  {
   "cell_type": "code",
   "execution_count": null,
   "metadata": {
    "ExecuteTime": {
     "end_time": "2023-09-26T08:08:45.957869Z",
     "start_time": "2023-09-26T08:08:45.950125Z"
    }
   },
   "outputs": [],
   "source": [
    "arr = np.array(alist, dtype = object)"
   ]
  },
  {
   "cell_type": "markdown",
   "metadata": {},
   "source": [
    "## Running time analysis"
   ]
  },
  {
   "cell_type": "code",
   "execution_count": null,
   "metadata": {
    "ExecuteTime": {
     "end_time": "2023-10-09T06:08:29.960068Z",
     "start_time": "2023-10-09T06:08:29.939809Z"
    }
   },
   "outputs": [],
   "source": [
    "from line_profiler import LineProfiler"
   ]
  },
  {
   "cell_type": "code",
   "execution_count": null,
   "metadata": {
    "ExecuteTime": {
     "end_time": "2023-10-09T06:09:29.361211Z",
     "start_time": "2023-10-09T06:09:29.348695Z"
    }
   },
   "outputs": [],
   "source": [
    "profile = LineProfiler(my_scan.scan_2d)"
   ]
  },
  {
   "cell_type": "code",
   "execution_count": null,
   "metadata": {
    "ExecuteTime": {
     "end_time": "2023-10-09T06:18:26.591812Z",
     "start_time": "2023-10-09T06:10:35.315123Z"
    }
   },
   "outputs": [],
   "source": [
    "profile.runcall(my_scan.scan_2d, 1, 0)\n",
    "profile.print_stats()"
   ]
  },
  {
   "cell_type": "code",
   "execution_count": null,
   "metadata": {
    "ExecuteTime": {
     "end_time": "2023-10-09T06:24:48.678936Z",
     "start_time": "2023-10-09T06:24:44.011106Z"
    }
   },
   "outputs": [],
   "source": [
    "profile = LineProfiler(my_scan.scan_1d)\n",
    "profile.runcall(my_scan.scan_1d, 1)\n",
    "profile.print_stats()"
   ]
  },
  {
   "cell_type": "code",
   "execution_count": null,
   "metadata": {
    "ExecuteTime": {
     "end_time": "2023-10-09T07:46:06.796939Z",
     "start_time": "2023-10-09T07:46:06.775091Z"
    }
   },
   "outputs": [],
   "source": [
    "import h5py\n",
    "import time\n",
    "from collections import Iterable\n",
    "\n",
    "def acqusition_generator(para_meas):\n",
    "    for vz in my_scan.para_meas:\n",
    "        yield vz()\n",
    "    \n",
    "def safe(parameter, endpoint):\n",
    "    if isinstance(parameter, Iterable):\n",
    "        for element in parameter:\n",
    "            ramp(element, endpoint)\n",
    "    else:\n",
    "        ramp(parameter, endpoint)\n",
    "\n",
    "def ramp(parameter, endpoint, step=0.01):\n",
    "    if endpoint > 50 or step == 0:\n",
    "        pass\n",
    "    else:\n",
    "        start_point = parameter()\n",
    "        if start_point > endpoint:\n",
    "            step = -step \n",
    "        interval = np.arange(start_point, endpoint, step)\n",
    "        for val in interval:\n",
    "            parameter(val)\n",
    "            time.sleep(0.005)\n",
    "    parameter(endpoint)\n",
    "def output(parameter, val):\n",
    "    if isinstance(parameter, Iterable):\n",
    "        for element in parameter:\n",
    "            element(val)\n",
    "    else:\n",
    "        parameter(val)\n",
    "\n",
    "def scan_1d(scan_x: int):\n",
    "    scan_type = 'scan_1d'\n",
    "    scan_para_list=[scan_x]\n",
    "    ranges = my_scan._ranges[scan_type]\n",
    "    scan_para = [my_scan.para_scan[para] for para in scan_para_list]\n",
    "    if len(ranges) == len(scan_para):\n",
    "        my_scan.data = np.zeros((len(my_scan.para_meas),) + my_scan.range_scan_dimension(ranges))\n",
    "    else:\n",
    "        raise ValueError('scan_para_list is out of range and it does not match the scan range.')\n",
    "    my_scan.manager.update_run_id()\n",
    "    data_file = my_scan.manager.create_hdf5_file\n",
    "    with h5py.File(data_file, 'a') as file:\n",
    "\n",
    "        dataset = my_scan.scan_dataset(file, ranges)\n",
    "\n",
    "        start_time = my_scan.scan_start(scan_para, ranges)\n",
    "\n",
    "#      my_scan.scan_action(range_2d, scan_xy_para, dataset)\n",
    "        if len(ranges) == 1:\n",
    "            with ACQTask(acq_name='art',\n",
    "             acq_channels='Dev1/ai4',\n",
    "             sample_rate=1e4,m\n",
    "             memory_size=1000) as daq:\n",
    "                for idx, vx in enumerate(ranges[0]):\n",
    "                    output(scan_para[0], vx)\n",
    "                    time.sleep(my_scan.sleep)\n",
    "                    for idz, vz in enumerate(my_scan.para_meas):\n",
    "                        raw_data = daq.read() / my_scan.scaler\n",
    "                        my_scan.data[idz, idx] = np.average(raw_data)\n",
    "                        # ------------------------------------------------------------------------------------------------------\n",
    "                        my_scan.manager.progress_bar(current=my_scan.data[idz, idx],\n",
    "                                                  idx=idx,\n",
    "                                                  idz=idz,\n",
    "                                                  length=len(ranges[0]))\n",
    "                    # ----------------------------------------------------------------------------------------------------------\n",
    "                    dataset[:, idx] = my_scan.data[:, idx]\n",
    "        elif len(ranges) == 2:\n",
    "#             self.scan_action_2d(ranges, scan_para_list, dataset)\n",
    "            for idy, vy in enumerate(ranges[1]):\n",
    "                safe(scan_para[0], ranges[0][0])\n",
    "                output(scan_para[1], vy)\n",
    "                for idx, vx in enumerate(ranges[0]):\n",
    "                    output(scan_para[0], vx)\n",
    "                    time.sleep(my_scan.sleep)\n",
    "                    for idz, vz in enumerate(my_scan.para_meas):\n",
    "                        raw_data = vz() / my_scan.scaler\n",
    "                        my_scan.data[idz, idx, idy] = np.average(raw_data)\n",
    "                        my_scan.manager.progress_bar(current=my_scan.data[idz, idx, idy],\n",
    "                                                  idy=idy,\n",
    "                                                  idx=idx,\n",
    "                                                  idz=idz,\n",
    "                                                  length=len(ranges[0]))\n",
    "\n",
    "                dataset[:, :, idy] = my_scan.data[:, :, idy]\n",
    "        else:\n",
    "            raise ValueError('The dimension of scan ranges excesses two !')\n",
    "\n",
    "        end_time = my_scan.scan_end(scan_para)\n",
    "\n",
    "        notes = my_scan.generate_notes(start_time, end_time)\n",
    "\n",
    "        for key in notes.keys():\n",
    "            dataset.attrs[key] = notes[key]\n",
    "\n",
    "    return notes\n",
    "\n",
    "def scan_2d(scan_x: int, scan_y: int):\n",
    "    scan_type = 'scan_2d'\n",
    "    scan_para_list=[scan_x, scan_y]\n",
    "    ranges = my_scan._ranges[scan_type]\n",
    "    scan_para = [my_scan.para_scan[para] for para in scan_para_list]\n",
    "    if len(ranges) == len(scan_para):\n",
    "        my_scan.data = np.zeros((len(my_scan.para_meas),) + my_scan.range_scan_dimension(ranges))\n",
    "    else:\n",
    "        raise ValueError('scan_para_list is out of range and it does not match the scan range.')\n",
    "    my_scan.manager.update_run_id()\n",
    "    data_file = my_scan.manager.create_hdf5_file\n",
    "    with h5py.File(data_file, 'a') as file:\n",
    "\n",
    "        dataset = my_scan.scan_dataset(file, ranges)\n",
    "\n",
    "        start_time = my_scan.scan_start(scan_para, ranges)\n",
    "\n",
    "#         my_scan.scan_action(range_2d, scan_xy_para, dataset)\n",
    "        if len(ranges) == 1:\n",
    "#             self.scan_action_1d(ranges, scan_para_list, dataset)\n",
    "            for idx, vx in enumerate(ranges[0]):\n",
    "                output(scan_para[0], vx)\n",
    "                time.sleep(my_scan.sleep)\n",
    "                for idz, vz in enumerate(my_scan.para_meas):\n",
    "                    raw_data = vz() / my_scan.scaler\n",
    "                    my_scan.data[idz, idx] = np.average(raw_data)\n",
    "                    # ------------------------------------------------------------------------------------------------------\n",
    "                    my_scan.manager.progress_bar(current=my_scan.data[idz, idx],\n",
    "                                              idx=idx,\n",
    "                                              idz=idz,\n",
    "                                              length=len(ranges[0]))\n",
    "                # ----------------------------------------------------------------------------------------------------------\n",
    "                dataset[:, idx] = my_scan.data[:, idx]\n",
    "        elif len(ranges) == 2:\n",
    "#             self.scan_action_2d(ranges, scan_para_list, dataset)\n",
    "            for idy, vy in enumerate(ranges[1]):\n",
    "                safe(scan_para[0], ranges[0][0])\n",
    "                output(scan_para[1], vy)\n",
    "                for idx, vx in enumerate(ranges[0]):\n",
    "                    output(scan_para[0], vx)\n",
    "                    time.sleep(my_scan.sleep)\n",
    "                    for idz, vz in enumerate(my_scan.para_meas):\n",
    "                        raw_data = vz() / my_scan.scaler\n",
    "                        my_scan.data[idz, idx, idy] = np.average(raw_data)\n",
    "                        my_scan.manager.progress_bar(current=my_scan.data[idz, idx, idy],\n",
    "                                                  idy=idy,\n",
    "                                                  idx=idx,\n",
    "                                                  idz=idz,\n",
    "                                                  length=len(ranges[0]))\n",
    "\n",
    "                dataset[:, :, idy] = my_scan.data[:, :, idy]\n",
    "        else:\n",
    "            raise ValueError('The dimension of scan ranges excesses two !')\n",
    "            \n",
    "        end_time = my_scan.scan_end(scan_para)\n",
    "\n",
    "        notes = my_scan.generate_notes(start_time, end_time)\n",
    "\n",
    "        for key in notes.keys():\n",
    "            dataset.attrs[key] = notes[key]\n",
    "\n",
    "    return notes"
   ]
  },
  {
   "cell_type": "code",
   "execution_count": null,
   "metadata": {
    "ExecuteTime": {
     "end_time": "2023-10-09T07:46:26.570287Z",
     "start_time": "2023-10-09T07:46:07.625336Z"
    }
   },
   "outputs": [],
   "source": [
    "profile = LineProfiler(scan_2d)\n",
    "profile.runcall(scan_2d, 1, 0)\n",
    "profile.print_stats()"
   ]
  },
  {
   "cell_type": "code",
   "execution_count": null,
   "metadata": {
    "ExecuteTime": {
     "end_time": "2023-10-10T04:50:51.642866Z",
     "start_time": "2023-10-10T04:50:51.633058Z"
    }
   },
   "outputs": [],
   "source": [
    "class ACQTask:\n",
    "    def __init__(self, acq_name: str):\n",
    "        self.acq = acq_name\n",
    "        self._acq_controller = {'art':self.art, 'm2p':self.m2p}\n",
    "\n",
    "    def __enter__(self):\n",
    "#         if self.acq == 'art':\n",
    "#             print('art acq')\n",
    "#         elif self.acq == 'm2p':\n",
    "#             print('m2p acq')\n",
    "        self._acq_controller[self.acq]()\n",
    "        return self\n",
    "    \n",
    "    @classmethod\n",
    "    def get_acq(cls, acq_name):\n",
    "        return getattr(cls,acq_name)\n",
    "    \n",
    "    def __exit__(self, exc_type, exc_val, exc_tb):\n",
    "        self.close()\n",
    "    \n",
    "    @staticmethod\n",
    "    def art():\n",
    "        print('art action')\n",
    "    \n",
    "    @staticmethod\n",
    "    def m2p():\n",
    "        print('m2p action')\n",
    "    \n",
    "    def close(self):\n",
    "        print('close')"
   ]
  },
  {
   "cell_type": "code",
   "execution_count": null,
   "metadata": {
    "ExecuteTime": {
     "end_time": "2023-10-10T04:50:52.170236Z",
     "start_time": "2023-10-10T04:50:52.153325Z"
    }
   },
   "outputs": [],
   "source": [
    "with ACQTask('m2p') as task:\n",
    "    print(dir(task))"
   ]
  },
  {
   "cell_type": "code",
   "execution_count": null,
   "metadata": {
    "ExecuteTime": {
     "end_time": "2023-10-10T04:50:25.352608Z",
     "start_time": "2023-10-10T04:50:25.344690Z"
    }
   },
   "outputs": [],
   "source": [
    "task = ACQTask('m2p')"
   ]
  },
  {
   "cell_type": "code",
   "execution_count": null,
   "metadata": {
    "ExecuteTime": {
     "end_time": "2023-10-10T04:50:26.397325Z",
     "start_time": "2023-10-10T04:50:26.379213Z"
    }
   },
   "outputs": [],
   "source": [
    "task.get_acq('m2p')()"
   ]
  },
  {
   "cell_type": "markdown",
   "metadata": {
    "pycharm": {
     "name": "#%% md\n"
    }
   },
   "source": [
    "# Scan v.1.3 test"
   ]
  },
  {
   "cell_type": "code",
   "execution_count": null,
   "metadata": {
    "ExecuteTime": {
     "end_time": "2023-10-23T06:31:13.674294Z",
     "start_time": "2023-10-23T06:31:13.335972Z"
    }
   },
   "outputs": [],
   "source": [
    "with pro.ACQTask(acq_name='art',\n",
    "                 acq_channels='Dev1/ai4',\n",
    "                 sample_rate=1e4,\n",
    "                 memory_size=1000) as my_task:\n",
    "    raw_data = my_task.read()\n"
   ]
  },
  {
   "cell_type": "code",
   "execution_count": null,
   "metadata": {
    "ExecuteTime": {
     "end_time": "2023-10-23T06:31:26.604274Z",
     "start_time": "2023-10-23T06:31:26.598267Z"
    },
    "pycharm": {
     "name": "#%%\n"
    }
   },
   "outputs": [],
   "source": [
    "my_project = Project(sample_name='SAQ14',\n",
    "                     temperature='mK',\n",
    "                     tester='XF')"
   ]
  },
  {
   "cell_type": "code",
   "execution_count": null,
   "metadata": {
    "ExecuteTime": {
     "end_time": "2023-10-23T06:31:27.453853Z",
     "start_time": "2023-10-23T06:31:27.448849Z"
    },
    "pycharm": {
     "name": "#%%\n"
    }
   },
   "outputs": [],
   "source": [
    "my_scan = Scan(para_meas=I_sd,\n",
    "               para_scan=[v_sd, v_g1],\n",
    "               project=my_project,\n",
    "               scaler=1e0)"
   ]
  },
  {
   "cell_type": "code",
   "execution_count": null,
   "metadata": {
    "ExecuteTime": {
     "end_time": "2023-10-23T06:31:28.011688Z",
     "start_time": "2023-10-23T06:31:28.006683Z"
    },
    "pycharm": {
     "name": "#%%\n"
    }
   },
   "outputs": [],
   "source": [
    "my_scan.set_range_1d(scan_range=scan_range)"
   ]
  },
  {
   "cell_type": "code",
   "execution_count": null,
   "metadata": {
    "ExecuteTime": {
     "end_time": "2023-10-23T06:31:40.098311Z",
     "start_time": "2023-10-23T06:31:28.831553Z"
    },
    "pycharm": {
     "name": "#%%\n"
    }
   },
   "outputs": [],
   "source": [
    "my_scan.scan_1d(scan_x=0)"
   ]
  },
  {
   "cell_type": "code",
   "execution_count": null,
   "metadata": {
    "ExecuteTime": {
     "end_time": "2023-10-23T06:31:46.488328Z",
     "start_time": "2023-10-23T06:31:46.102960Z"
    },
    "pycharm": {
     "name": "#%%\n"
    }
   },
   "outputs": [],
   "source": [
    "plt.plot(scan_range, my_scan.data[0,:])"
   ]
  },
  {
   "cell_type": "code",
   "execution_count": null,
   "metadata": {
    "ExecuteTime": {
     "end_time": "2023-10-23T06:37:16.710961Z",
     "start_time": "2023-10-23T06:37:16.703954Z"
    },
    "pycharm": {
     "name": "#%%\n"
    }
   },
   "outputs": [],
   "source": [
    "my_scan.scaler"
   ]
  },
  {
   "cell_type": "code",
   "execution_count": null,
   "metadata": {
    "ExecuteTime": {
     "end_time": "2023-10-23T06:38:00.846143Z",
     "start_time": "2023-10-23T06:38:00.840137Z"
    }
   },
   "outputs": [],
   "source": [
    "scan_x_range = np.linspace(-0.1, 0.1, 100)\n",
    "scan_y_range = np.linspace(-0.1, 0.1, 10)"
   ]
  },
  {
   "cell_type": "code",
   "execution_count": null,
   "metadata": {
    "ExecuteTime": {
     "end_time": "2023-10-23T06:38:01.605240Z",
     "start_time": "2023-10-23T06:38:01.600235Z"
    }
   },
   "outputs": [],
   "source": [
    "my_scan.set_range_2d(scan_x_range, scan_y_range)"
   ]
  },
  {
   "cell_type": "code",
   "execution_count": null,
   "metadata": {
    "ExecuteTime": {
     "end_time": "2023-10-23T06:40:11.645345Z",
     "start_time": "2023-10-23T06:38:31.199070Z"
    }
   },
   "outputs": [],
   "source": [
    "my_scan.scan_2d(scan_x=1,scan_y=0)"
   ]
  },
  {
   "cell_type": "code",
   "execution_count": null,
   "metadata": {
    "ExecuteTime": {
     "end_time": "2023-10-23T06:41:04.379926Z",
     "start_time": "2023-10-23T06:41:03.707283Z"
    }
   },
   "outputs": [],
   "source": [
    "plt.pcolormesh(my_scan.data[0,:,:])\n",
    "plt.colorbar()"
   ]
  },
  {
   "cell_type": "code",
   "execution_count": null,
   "metadata": {
    "ExecuteTime": {
     "end_time": "2023-10-23T06:08:37.150611Z",
     "start_time": "2023-10-23T06:08:36.807282Z"
    },
    "pycharm": {
     "name": "#%%\n"
    }
   },
   "outputs": [],
   "source": [
    "plt.plot(raw_data)"
   ]
  },
  {
   "cell_type": "code",
   "execution_count": null,
   "metadata": {
    "ExecuteTime": {
     "end_time": "2023-10-23T06:29:37.424588Z",
     "start_time": "2023-10-23T06:29:37.417581Z"
    },
    "pycharm": {
     "name": "#%%\n"
    }
   },
   "outputs": [],
   "source": [
    "np.average(raw_data)"
   ]
  },
  {
   "cell_type": "code",
   "execution_count": null,
   "metadata": {
    "ExecuteTime": {
     "end_time": "2023-10-23T06:31:16.586274Z",
     "start_time": "2023-10-23T06:31:16.576264Z"
    }
   },
   "outputs": [],
   "source": [
    "type(raw_data)"
   ]
  },
  {
   "cell_type": "markdown",
   "metadata": {},
   "source": [
    "# Scan v.2.1 test"
   ]
  },
  {
   "cell_type": "code",
   "execution_count": null,
   "metadata": {},
   "outputs": [],
   "source": []
  }
 ],
 "metadata": {
  "kernelspec": {
   "display_name": "PyCharm (SpinQuantumControlMeasurement)",
   "language": "python",
   "name": "pycharm-6e0f8de9"
  },
  "language_info": {
   "codemirror_mode": {
    "name": "ipython",
    "version": 3
   },
   "file_extension": ".py",
   "mimetype": "text/x-python",
   "name": "python",
   "nbconvert_exporter": "python",
   "pygments_lexer": "ipython3",
   "version": "3.7.0"
  },
  "toc": {
   "base_numbering": 1,
   "nav_menu": {},
   "number_sections": true,
   "sideBar": true,
   "skip_h1_title": false,
   "title_cell": "Table of Contents",
   "title_sidebar": "Contents",
   "toc_cell": false,
   "toc_position": {
    "height": "calc(100% - 180px)",
    "left": "10px",
    "top": "150px",
    "width": "465.455px"
   },
   "toc_section_display": true,
   "toc_window_display": true
  }
 },
 "nbformat": 4,
 "nbformat_minor": 1
}
