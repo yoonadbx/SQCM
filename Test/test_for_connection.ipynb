{
 "cells": [
  {
   "cell_type": "code",
   "execution_count": 1,
   "id": "89b3efe4",
   "metadata": {
    "ExecuteTime": {
     "end_time": "2023-11-08T06:18:09.357138Z",
     "start_time": "2023-11-08T06:18:09.347995Z"
    }
   },
   "outputs": [],
   "source": [
    "import sys\n",
    "sys.path.append(r'C:\\Users\\Yoonaxf\\PycharmProjects\\SQCM')"
   ]
  },
  {
   "cell_type": "code",
   "execution_count": 2,
   "id": "42281083",
   "metadata": {
    "ExecuteTime": {
     "end_time": "2023-11-08T06:18:09.920225Z",
     "start_time": "2023-11-08T06:18:09.495504Z"
    },
    "scrolled": false
   },
   "outputs": [],
   "source": [
    "from instrument_interfaces.interfaces import Connection, Layout\n",
    "from instrument_interfaces.chip_interface import ChipInterface\n",
    "from instrument_interfaces.sp1060_interface import Sp1060\n",
    "from instruments.meta_instruments import *\n",
    "from tools import *\n",
    "from pulses.pulse_sequcences import PulseLine"
   ]
  },
  {
   "cell_type": "code",
   "execution_count": 3,
   "id": "18e36d2f",
   "metadata": {
    "ExecuteTime": {
     "end_time": "2023-11-08T06:18:09.935467Z",
     "start_time": "2023-11-08T06:18:09.923266Z"
    }
   },
   "outputs": [],
   "source": [
    "chip_infoes = [{'channel_name':'Gate1','channel_num':2,'channel_type':'DC','group':1,'Input':True,'low':-1,'high':1}, \n",
    "               {'channel_name':'Gate2','channel_num':4,'channel_type':'DC','group':1,'Input':True,'low':-1,'high':1},\n",
    "              {'channel_name':'Gate3','channel_num':1,'channel_type':'Acq','group':1,'Input':False,'max_memory_size':1e8}]\n",
    "my_chip = ChipInterface('saq16', chip_infoes)"
   ]
  },
  {
   "cell_type": "code",
   "execution_count": 4,
   "id": "ae19771a",
   "metadata": {
    "ExecuteTime": {
     "end_time": "2023-11-08T06:18:10.275368Z",
     "start_time": "2023-11-08T06:18:10.258978Z"
    }
   },
   "outputs": [
    {
     "name": "stdout",
     "output_type": "stream",
     "text": [
      "The channel saq16.Gate1 (group=1, id=2, type=DC) input already exists!\n"
     ]
    }
   ],
   "source": [
    "my_chip.add_channel('Gate1', channel_num=2, channel_type='DC', Input=True, group=1, low=-1, high=1)"
   ]
  },
  {
   "cell_type": "code",
   "execution_count": 5,
   "id": "0812d1c0",
   "metadata": {
    "ExecuteTime": {
     "end_time": "2023-11-08T06:18:10.571011Z",
     "start_time": "2023-11-08T06:18:10.551753Z"
    }
   },
   "outputs": [
    {
     "data": {
      "text/plain": [
       "[saq16.Gate1 (group=1, id=2, type=DC) input,\n",
       " saq16.Gate2 (group=1, id=4, type=DC) input,\n",
       " saq16.Gate3 (group=1, id=1, type=Acq) output]"
      ]
     },
     "execution_count": 5,
     "metadata": {},
     "output_type": "execute_result"
    }
   ],
   "source": [
    "my_chip.channels"
   ]
  },
  {
   "cell_type": "code",
   "execution_count": 6,
   "id": "d5c518b7",
   "metadata": {
    "ExecuteTime": {
     "end_time": "2023-11-08T06:18:14.394585Z",
     "start_time": "2023-11-08T06:18:10.843624Z"
    }
   },
   "outputs": [
    {
     "ename": "VisaIOError",
     "evalue": "VI_ERROR_RSRC_NFOUND (-1073807343): Insufficient location information or the requested device or resource is not present in the system.",
     "output_type": "error",
     "traceback": [
      "\u001b[1;31m---------------------------------------------------------------------------\u001b[0m",
      "\u001b[1;31mVisaIOError\u001b[0m                               Traceback (most recent call last)",
      "Cell \u001b[1;32mIn[6], line 1\u001b[0m\n\u001b[1;32m----> 1\u001b[0m my_dac \u001b[38;5;241m=\u001b[39m \u001b[43mSp1060\u001b[49m\u001b[43m(\u001b[49m\u001b[43mname\u001b[49m\u001b[43m \u001b[49m\u001b[38;5;241;43m=\u001b[39;49m\u001b[43m \u001b[49m\u001b[38;5;124;43m'\u001b[39;49m\u001b[38;5;124;43msp1060\u001b[39;49m\u001b[38;5;124;43m'\u001b[39;49m\u001b[43m,\u001b[49m\u001b[43maddress\u001b[49m\u001b[38;5;241;43m=\u001b[39;49m\u001b[38;5;124;43m'\u001b[39;49m\u001b[38;5;124;43mTCPIP0::192.168.31.5::23::SOCKET\u001b[39;49m\u001b[38;5;124;43m'\u001b[39;49m\u001b[43m)\u001b[49m\n",
      "File \u001b[1;32m~\\PycharmProjects\\SQCM\\instrument_interfaces\\sp1060_interface.py:18\u001b[0m, in \u001b[0;36mSp1060.__init__\u001b[1;34m(self, address, name, channel_num, **kwargs)\u001b[0m\n\u001b[0;32m     11\u001b[0m \u001b[38;5;250m\u001b[39m\u001b[38;5;124;03m\"\"\"\u001b[39;00m\n\u001b[0;32m     12\u001b[0m \u001b[38;5;124;03m:param name: sp1060\u001b[39;00m\n\u001b[0;32m     13\u001b[0m \u001b[38;5;124;03m:param address: 仪器的IP地址\u001b[39;00m\n\u001b[0;32m     14\u001b[0m \u001b[38;5;124;03m:param channel_num: 仪器的通道数，一般为24或者12\u001b[39;00m\n\u001b[0;32m     15\u001b[0m \u001b[38;5;124;03m:param kwargs: 仪器的其他参数，例如，仪器的型号，仪器的序列号等\u001b[39;00m\n\u001b[0;32m     16\u001b[0m \u001b[38;5;124;03m\"\"\"\u001b[39;00m\n\u001b[0;32m     17\u001b[0m \u001b[38;5;28msuper\u001b[39m()\u001b[38;5;241m.\u001b[39m\u001b[38;5;21m__init__\u001b[39m(name)\n\u001b[1;32m---> 18\u001b[0m \u001b[38;5;28mself\u001b[39m\u001b[38;5;241m.\u001b[39minstrument \u001b[38;5;241m=\u001b[39m DAC_SP1060(name, address, \u001b[38;5;241m*\u001b[39m\u001b[38;5;241m*\u001b[39mkwargs)\n\u001b[0;32m     19\u001b[0m \u001b[38;5;28;01mfor\u001b[39;00m ch \u001b[38;5;129;01min\u001b[39;00m \u001b[38;5;28mrange\u001b[39m(channel_num):\n\u001b[0;32m     20\u001b[0m     \u001b[38;5;28mself\u001b[39m\u001b[38;5;241m.\u001b[39madd_channel(channel_name\u001b[38;5;241m=\u001b[39m\u001b[38;5;124mf\u001b[39m\u001b[38;5;124m'\u001b[39m\u001b[38;5;124mCh\u001b[39m\u001b[38;5;132;01m{\u001b[39;00mch\u001b[38;5;241m+\u001b[39m\u001b[38;5;241m1\u001b[39m\u001b[38;5;132;01m}\u001b[39;00m\u001b[38;5;124m'\u001b[39m,\n\u001b[0;32m     21\u001b[0m                      channel_num\u001b[38;5;241m=\u001b[39mch\u001b[38;5;241m+\u001b[39m\u001b[38;5;241m1\u001b[39m,\n\u001b[0;32m     22\u001b[0m                      channel_type\u001b[38;5;241m=\u001b[39m\u001b[38;5;124m'\u001b[39m\u001b[38;5;124mDC\u001b[39m\u001b[38;5;124m'\u001b[39m,\n\u001b[1;32m   (...)\u001b[0m\n\u001b[0;32m     25\u001b[0m                      high\u001b[38;5;241m=\u001b[39m\u001b[38;5;241m1.0\u001b[39m,\n\u001b[0;32m     26\u001b[0m                      low\u001b[38;5;241m=\u001b[39m\u001b[38;5;241m-\u001b[39m\u001b[38;5;241m1.0\u001b[39m)\n",
      "File \u001b[1;32mD:\\Anaconda\\envs\\qcodes\\lib\\site-packages\\qcodes\\instrument\\base.py:517\u001b[0m, in \u001b[0;36mAbstractInstrumentMeta.__call__\u001b[1;34m(cls, *args, **kwargs)\u001b[0m\n\u001b[0;32m    512\u001b[0m \u001b[38;5;28;01mdef\u001b[39;00m \u001b[38;5;21m__call__\u001b[39m(\u001b[38;5;28mcls\u001b[39m, \u001b[38;5;241m*\u001b[39margs: Any, \u001b[38;5;241m*\u001b[39m\u001b[38;5;241m*\u001b[39mkwargs: Any) \u001b[38;5;241m-\u001b[39m\u001b[38;5;241m>\u001b[39m Any:\n\u001b[0;32m    513\u001b[0m \u001b[38;5;250m    \u001b[39m\u001b[38;5;124;03m\"\"\"\u001b[39;00m\n\u001b[0;32m    514\u001b[0m \u001b[38;5;124;03m    Overloads `type.__call__` to add code that runs only if __init__ completes\u001b[39;00m\n\u001b[0;32m    515\u001b[0m \u001b[38;5;124;03m    successfully.\u001b[39;00m\n\u001b[0;32m    516\u001b[0m \u001b[38;5;124;03m    \"\"\"\u001b[39;00m\n\u001b[1;32m--> 517\u001b[0m     new_inst \u001b[38;5;241m=\u001b[39m \u001b[38;5;28msuper\u001b[39m()\u001b[38;5;241m.\u001b[39m\u001b[38;5;21m__call__\u001b[39m(\u001b[38;5;241m*\u001b[39margs, \u001b[38;5;241m*\u001b[39m\u001b[38;5;241m*\u001b[39mkwargs)\n\u001b[0;32m    518\u001b[0m     is_abstract \u001b[38;5;241m=\u001b[39m new_inst\u001b[38;5;241m.\u001b[39m_is_abstract()\n\u001b[0;32m    519\u001b[0m     \u001b[38;5;28;01mif\u001b[39;00m is_abstract:\n",
      "File \u001b[1;32m~\\PycharmProjects\\SQCM\\instruments\\DAC_SP1060.py:334\u001b[0m, in \u001b[0;36mDAC_SP1060.__init__\u001b[1;34m(self, name, address, terminator, **kwargs)\u001b[0m\n\u001b[0;32m    332\u001b[0m \u001b[38;5;28;01mdef\u001b[39;00m \u001b[38;5;21m__init__\u001b[39m(\u001b[38;5;28mself\u001b[39m, name: \u001b[38;5;28mstr\u001b[39m, address: \u001b[38;5;28mstr\u001b[39m, terminator: \u001b[38;5;28mstr\u001b[39m \u001b[38;5;241m=\u001b[39m \u001b[38;5;124m\"\u001b[39m\u001b[38;5;130;01m\\r\u001b[39;00m\u001b[38;5;130;01m\\n\u001b[39;00m\u001b[38;5;124m\"\u001b[39m,\n\u001b[0;32m    333\u001b[0m              \u001b[38;5;241m*\u001b[39m\u001b[38;5;241m*\u001b[39mkwargs) \u001b[38;5;241m-\u001b[39m\u001b[38;5;241m>\u001b[39m \u001b[38;5;28;01mNone\u001b[39;00m:\n\u001b[1;32m--> 334\u001b[0m     \u001b[38;5;28msuper\u001b[39m()\u001b[38;5;241m.\u001b[39m\u001b[38;5;21m__init__\u001b[39m(name, address, terminator\u001b[38;5;241m=\u001b[39mterminator, \u001b[38;5;241m*\u001b[39m\u001b[38;5;241m*\u001b[39mkwargs)\n\u001b[0;32m    336\u001b[0m     \u001b[38;5;28;01mfor\u001b[39;00m ch \u001b[38;5;129;01min\u001b[39;00m \u001b[38;5;28mrange\u001b[39m(\u001b[38;5;241m1\u001b[39m,\u001b[38;5;241m25\u001b[39m):\n\u001b[0;32m    337\u001b[0m         ch_name \u001b[38;5;241m=\u001b[39m \u001b[38;5;124m'\u001b[39m\u001b[38;5;124mch\u001b[39m\u001b[38;5;132;01m{}\u001b[39;00m\u001b[38;5;124m'\u001b[39m\u001b[38;5;241m.\u001b[39mformat(ch)\n",
      "File \u001b[1;32mD:\\Anaconda\\envs\\qcodes\\lib\\site-packages\\qcodes\\instrument\\visa.py:89\u001b[0m, in \u001b[0;36mVisaInstrument.__init__\u001b[1;34m(self, name, address, timeout, terminator, device_clear, visalib, **kwargs)\u001b[0m\n\u001b[0;32m     87\u001b[0m     \u001b[38;5;28mself\u001b[39m\u001b[38;5;241m.\u001b[39mvisa_log\u001b[38;5;241m.\u001b[39minfo(\u001b[38;5;124mf\u001b[39m\u001b[38;5;124m\"\u001b[39m\u001b[38;5;124mCould not connect at \u001b[39m\u001b[38;5;132;01m{\u001b[39;00maddress\u001b[38;5;132;01m}\u001b[39;00m\u001b[38;5;124m\"\u001b[39m)\n\u001b[0;32m     88\u001b[0m     \u001b[38;5;28mself\u001b[39m\u001b[38;5;241m.\u001b[39mclose()\n\u001b[1;32m---> 89\u001b[0m     \u001b[38;5;28;01mraise\u001b[39;00m e\n\u001b[0;32m     91\u001b[0m \u001b[38;5;28;01mif\u001b[39;00m device_clear:\n\u001b[0;32m     92\u001b[0m     \u001b[38;5;28mself\u001b[39m\u001b[38;5;241m.\u001b[39mdevice_clear()\n",
      "File \u001b[1;32mD:\\Anaconda\\envs\\qcodes\\lib\\site-packages\\qcodes\\instrument\\visa.py:85\u001b[0m, in \u001b[0;36mVisaInstrument.__init__\u001b[1;34m(self, name, address, timeout, terminator, device_clear, visalib, **kwargs)\u001b[0m\n\u001b[0;32m     82\u001b[0m     \u001b[38;5;28mself\u001b[39m\u001b[38;5;241m.\u001b[39mvisalib \u001b[38;5;241m=\u001b[39m visalib\n\u001b[0;32m     84\u001b[0m \u001b[38;5;28;01mtry\u001b[39;00m:\n\u001b[1;32m---> 85\u001b[0m     \u001b[38;5;28;43mself\u001b[39;49m\u001b[38;5;241;43m.\u001b[39;49m\u001b[43mset_address\u001b[49m\u001b[43m(\u001b[49m\u001b[43maddress\u001b[49m\u001b[43m)\u001b[49m\n\u001b[0;32m     86\u001b[0m \u001b[38;5;28;01mexcept\u001b[39;00m \u001b[38;5;167;01mException\u001b[39;00m \u001b[38;5;28;01mas\u001b[39;00m e:\n\u001b[0;32m     87\u001b[0m     \u001b[38;5;28mself\u001b[39m\u001b[38;5;241m.\u001b[39mvisa_log\u001b[38;5;241m.\u001b[39minfo(\u001b[38;5;124mf\u001b[39m\u001b[38;5;124m\"\u001b[39m\u001b[38;5;124mCould not connect at \u001b[39m\u001b[38;5;132;01m{\u001b[39;00maddress\u001b[38;5;132;01m}\u001b[39;00m\u001b[38;5;124m\"\u001b[39m)\n",
      "File \u001b[1;32mD:\\Anaconda\\envs\\qcodes\\lib\\site-packages\\qcodes\\instrument\\visa.py:124\u001b[0m, in \u001b[0;36mVisaInstrument.set_address\u001b[1;34m(self, address)\u001b[0m\n\u001b[0;32m    121\u001b[0m     \u001b[38;5;28mself\u001b[39m\u001b[38;5;241m.\u001b[39mvisabackend \u001b[38;5;241m=\u001b[39m \u001b[38;5;124m'\u001b[39m\u001b[38;5;124mni\u001b[39m\u001b[38;5;124m'\u001b[39m\n\u001b[0;32m    123\u001b[0m \u001b[38;5;28mself\u001b[39m\u001b[38;5;241m.\u001b[39mvisa_log\u001b[38;5;241m.\u001b[39minfo(\u001b[38;5;124mf\u001b[39m\u001b[38;5;124m'\u001b[39m\u001b[38;5;124mOpening PyVISA resource at address: \u001b[39m\u001b[38;5;132;01m{\u001b[39;00maddress\u001b[38;5;132;01m}\u001b[39;00m\u001b[38;5;124m'\u001b[39m)\n\u001b[1;32m--> 124\u001b[0m resource \u001b[38;5;241m=\u001b[39m \u001b[43mresource_manager\u001b[49m\u001b[38;5;241;43m.\u001b[39;49m\u001b[43mopen_resource\u001b[49m\u001b[43m(\u001b[49m\u001b[43maddress\u001b[49m\u001b[43m)\u001b[49m\n\u001b[0;32m    125\u001b[0m \u001b[38;5;28;01mif\u001b[39;00m \u001b[38;5;129;01mnot\u001b[39;00m \u001b[38;5;28misinstance\u001b[39m(resource, visa\u001b[38;5;241m.\u001b[39mresources\u001b[38;5;241m.\u001b[39mMessageBasedResource):\n\u001b[0;32m    126\u001b[0m     \u001b[38;5;28;01mraise\u001b[39;00m \u001b[38;5;167;01mTypeError\u001b[39;00m(\u001b[38;5;124m\"\u001b[39m\u001b[38;5;124mQCoDeS only support MessageBasedResource \u001b[39m\u001b[38;5;124m\"\u001b[39m\n\u001b[0;32m    127\u001b[0m                     \u001b[38;5;124m\"\u001b[39m\u001b[38;5;124mVisa resources\u001b[39m\u001b[38;5;124m\"\u001b[39m)\n",
      "File \u001b[1;32mD:\\Anaconda\\envs\\qcodes\\lib\\site-packages\\pyvisa\\highlevel.py:3304\u001b[0m, in \u001b[0;36mResourceManager.open_resource\u001b[1;34m(self, resource_name, access_mode, open_timeout, resource_pyclass, **kwargs)\u001b[0m\n\u001b[0;32m   3298\u001b[0m     \u001b[38;5;28;01mif\u001b[39;00m \u001b[38;5;129;01mnot\u001b[39;00m present:\n\u001b[0;32m   3299\u001b[0m         \u001b[38;5;28;01mraise\u001b[39;00m \u001b[38;5;167;01mValueError\u001b[39;00m(\n\u001b[0;32m   3300\u001b[0m             \u001b[38;5;124m\"\u001b[39m\u001b[38;5;132;01m%r\u001b[39;00m\u001b[38;5;124m is not a valid attribute for type \u001b[39m\u001b[38;5;132;01m%s\u001b[39;00m\u001b[38;5;124m\"\u001b[39m\n\u001b[0;32m   3301\u001b[0m             \u001b[38;5;241m%\u001b[39m (key, res\u001b[38;5;241m.\u001b[39m\u001b[38;5;18m__class__\u001b[39m\u001b[38;5;241m.\u001b[39m\u001b[38;5;18m__name__\u001b[39m)\n\u001b[0;32m   3302\u001b[0m         )\n\u001b[1;32m-> 3304\u001b[0m \u001b[43mres\u001b[49m\u001b[38;5;241;43m.\u001b[39;49m\u001b[43mopen\u001b[49m\u001b[43m(\u001b[49m\u001b[43maccess_mode\u001b[49m\u001b[43m,\u001b[49m\u001b[43m \u001b[49m\u001b[43mopen_timeout\u001b[49m\u001b[43m)\u001b[49m\n\u001b[0;32m   3306\u001b[0m \u001b[38;5;28;01mfor\u001b[39;00m key, value \u001b[38;5;129;01min\u001b[39;00m kwargs\u001b[38;5;241m.\u001b[39mitems():\n\u001b[0;32m   3307\u001b[0m     \u001b[38;5;28msetattr\u001b[39m(res, key, value)\n",
      "File \u001b[1;32mD:\\Anaconda\\envs\\qcodes\\lib\\site-packages\\pyvisa\\resources\\resource.py:297\u001b[0m, in \u001b[0;36mResource.open\u001b[1;34m(self, access_mode, open_timeout)\u001b[0m\n\u001b[0;32m    293\u001b[0m logger\u001b[38;5;241m.\u001b[39mdebug(\u001b[38;5;124m\"\u001b[39m\u001b[38;5;132;01m%s\u001b[39;00m\u001b[38;5;124m - opening ...\u001b[39m\u001b[38;5;124m\"\u001b[39m, \u001b[38;5;28mself\u001b[39m\u001b[38;5;241m.\u001b[39m_resource_name, extra\u001b[38;5;241m=\u001b[39m\u001b[38;5;28mself\u001b[39m\u001b[38;5;241m.\u001b[39m_logging_extra)\n\u001b[0;32m    294\u001b[0m \u001b[38;5;28;01mwith\u001b[39;00m \u001b[38;5;28mself\u001b[39m\u001b[38;5;241m.\u001b[39m_resource_manager\u001b[38;5;241m.\u001b[39mignore_warning(\n\u001b[0;32m    295\u001b[0m     constants\u001b[38;5;241m.\u001b[39mStatusCode\u001b[38;5;241m.\u001b[39msuccess_device_not_present\n\u001b[0;32m    296\u001b[0m ):\n\u001b[1;32m--> 297\u001b[0m     \u001b[38;5;28mself\u001b[39m\u001b[38;5;241m.\u001b[39msession, status \u001b[38;5;241m=\u001b[39m \u001b[38;5;28;43mself\u001b[39;49m\u001b[38;5;241;43m.\u001b[39;49m\u001b[43m_resource_manager\u001b[49m\u001b[38;5;241;43m.\u001b[39;49m\u001b[43mopen_bare_resource\u001b[49m\u001b[43m(\u001b[49m\n\u001b[0;32m    298\u001b[0m \u001b[43m        \u001b[49m\u001b[38;5;28;43mself\u001b[39;49m\u001b[38;5;241;43m.\u001b[39;49m\u001b[43m_resource_name\u001b[49m\u001b[43m,\u001b[49m\u001b[43m \u001b[49m\u001b[43maccess_mode\u001b[49m\u001b[43m,\u001b[49m\u001b[43m \u001b[49m\u001b[43mopen_timeout\u001b[49m\n\u001b[0;32m    299\u001b[0m \u001b[43m    \u001b[49m\u001b[43m)\u001b[49m\n\u001b[0;32m    301\u001b[0m     \u001b[38;5;28;01mif\u001b[39;00m status \u001b[38;5;241m==\u001b[39m constants\u001b[38;5;241m.\u001b[39mStatusCode\u001b[38;5;241m.\u001b[39msuccess_device_not_present:\n\u001b[0;32m    302\u001b[0m         \u001b[38;5;66;03m# The device was not ready when we opened the session.\u001b[39;00m\n\u001b[0;32m    303\u001b[0m         \u001b[38;5;66;03m# Now it gets five seconds more to become ready.\u001b[39;00m\n\u001b[0;32m    304\u001b[0m         \u001b[38;5;66;03m# Every 0.1 seconds we probe it with viClear.\u001b[39;00m\n\u001b[0;32m    305\u001b[0m         start_time \u001b[38;5;241m=\u001b[39m time\u001b[38;5;241m.\u001b[39mtime()\n",
      "File \u001b[1;32mD:\\Anaconda\\envs\\qcodes\\lib\\site-packages\\pyvisa\\highlevel.py:3232\u001b[0m, in \u001b[0;36mResourceManager.open_bare_resource\u001b[1;34m(self, resource_name, access_mode, open_timeout)\u001b[0m\n\u001b[0;32m   3203\u001b[0m \u001b[38;5;28;01mdef\u001b[39;00m \u001b[38;5;21mopen_bare_resource\u001b[39m(\n\u001b[0;32m   3204\u001b[0m     \u001b[38;5;28mself\u001b[39m,\n\u001b[0;32m   3205\u001b[0m     resource_name: \u001b[38;5;28mstr\u001b[39m,\n\u001b[0;32m   3206\u001b[0m     access_mode: constants\u001b[38;5;241m.\u001b[39mAccessModes \u001b[38;5;241m=\u001b[39m constants\u001b[38;5;241m.\u001b[39mAccessModes\u001b[38;5;241m.\u001b[39mno_lock,\n\u001b[0;32m   3207\u001b[0m     open_timeout: \u001b[38;5;28mint\u001b[39m \u001b[38;5;241m=\u001b[39m constants\u001b[38;5;241m.\u001b[39mVI_TMO_IMMEDIATE,\n\u001b[0;32m   3208\u001b[0m ) \u001b[38;5;241m-\u001b[39m\u001b[38;5;241m>\u001b[39m Tuple[VISASession, StatusCode]:\n\u001b[0;32m   3209\u001b[0m \u001b[38;5;250m    \u001b[39m\u001b[38;5;124;03m\"\"\"Open the specified resource without wrapping into a class.\u001b[39;00m\n\u001b[0;32m   3210\u001b[0m \n\u001b[0;32m   3211\u001b[0m \u001b[38;5;124;03m    Parameters\u001b[39;00m\n\u001b[1;32m   (...)\u001b[0m\n\u001b[0;32m   3230\u001b[0m \n\u001b[0;32m   3231\u001b[0m \u001b[38;5;124;03m    \"\"\"\u001b[39;00m\n\u001b[1;32m-> 3232\u001b[0m     \u001b[38;5;28;01mreturn\u001b[39;00m \u001b[38;5;28;43mself\u001b[39;49m\u001b[38;5;241;43m.\u001b[39;49m\u001b[43mvisalib\u001b[49m\u001b[38;5;241;43m.\u001b[39;49m\u001b[43mopen\u001b[49m\u001b[43m(\u001b[49m\u001b[38;5;28;43mself\u001b[39;49m\u001b[38;5;241;43m.\u001b[39;49m\u001b[43msession\u001b[49m\u001b[43m,\u001b[49m\u001b[43m \u001b[49m\u001b[43mresource_name\u001b[49m\u001b[43m,\u001b[49m\u001b[43m \u001b[49m\u001b[43maccess_mode\u001b[49m\u001b[43m,\u001b[49m\u001b[43m \u001b[49m\u001b[43mopen_timeout\u001b[49m\u001b[43m)\u001b[49m\n",
      "File \u001b[1;32mD:\\Anaconda\\envs\\qcodes\\lib\\site-packages\\pyvisa\\ctwrapper\\functions.py:1851\u001b[0m, in \u001b[0;36mopen\u001b[1;34m(library, session, resource_name, access_mode, open_timeout)\u001b[0m\n\u001b[0;32m   1847\u001b[0m out_session \u001b[38;5;241m=\u001b[39m ViSession()\n\u001b[0;32m   1849\u001b[0m \u001b[38;5;66;03m# [ViSession, ViRsrc, ViAccessMode, ViUInt32, ViPSession]\u001b[39;00m\n\u001b[0;32m   1850\u001b[0m \u001b[38;5;66;03m# ViRsrc converts from (str, unicode, bytes) to bytes\u001b[39;00m\n\u001b[1;32m-> 1851\u001b[0m ret \u001b[38;5;241m=\u001b[39m \u001b[43mlibrary\u001b[49m\u001b[38;5;241;43m.\u001b[39;49m\u001b[43mviOpen\u001b[49m\u001b[43m(\u001b[49m\n\u001b[0;32m   1852\u001b[0m \u001b[43m    \u001b[49m\u001b[43msession\u001b[49m\u001b[43m,\u001b[49m\u001b[43m \u001b[49m\u001b[43mresource_name\u001b[49m\u001b[43m,\u001b[49m\u001b[43m \u001b[49m\u001b[43maccess_mode\u001b[49m\u001b[43m,\u001b[49m\u001b[43m \u001b[49m\u001b[43mopen_timeout\u001b[49m\u001b[43m,\u001b[49m\u001b[43m \u001b[49m\u001b[43mbyref\u001b[49m\u001b[43m(\u001b[49m\u001b[43mout_session\u001b[49m\u001b[43m)\u001b[49m\n\u001b[0;32m   1853\u001b[0m \u001b[43m\u001b[49m\u001b[43m)\u001b[49m\n\u001b[0;32m   1854\u001b[0m \u001b[38;5;28;01mreturn\u001b[39;00m out_session\u001b[38;5;241m.\u001b[39mvalue, ret\n",
      "File \u001b[1;32mD:\\Anaconda\\envs\\qcodes\\lib\\site-packages\\pyvisa\\ctwrapper\\highlevel.py:222\u001b[0m, in \u001b[0;36mIVIVisaLibrary._return_handler\u001b[1;34m(self, ret_value, func, arguments)\u001b[0m\n\u001b[0;32m    219\u001b[0m         \u001b[38;5;66;03m# Set session back to a safe value\u001b[39;00m\n\u001b[0;32m    220\u001b[0m         session \u001b[38;5;241m=\u001b[39m \u001b[38;5;28;01mNone\u001b[39;00m\n\u001b[1;32m--> 222\u001b[0m \u001b[38;5;28;01mreturn\u001b[39;00m \u001b[38;5;28;43mself\u001b[39;49m\u001b[38;5;241;43m.\u001b[39;49m\u001b[43mhandle_return_value\u001b[49m\u001b[43m(\u001b[49m\u001b[43msession\u001b[49m\u001b[43m,\u001b[49m\u001b[43m \u001b[49m\u001b[43mret_value\u001b[49m\u001b[43m)\u001b[49m\n",
      "File \u001b[1;32mD:\\Anaconda\\envs\\qcodes\\lib\\site-packages\\pyvisa\\highlevel.py:251\u001b[0m, in \u001b[0;36mVisaLibraryBase.handle_return_value\u001b[1;34m(self, session, status_code)\u001b[0m\n\u001b[0;32m    248\u001b[0m     \u001b[38;5;28mself\u001b[39m\u001b[38;5;241m.\u001b[39m_last_status_in_session[session] \u001b[38;5;241m=\u001b[39m rv\n\u001b[0;32m    250\u001b[0m \u001b[38;5;28;01mif\u001b[39;00m rv \u001b[38;5;241m<\u001b[39m \u001b[38;5;241m0\u001b[39m:\n\u001b[1;32m--> 251\u001b[0m     \u001b[38;5;28;01mraise\u001b[39;00m errors\u001b[38;5;241m.\u001b[39mVisaIOError(rv)\n\u001b[0;32m    253\u001b[0m \u001b[38;5;28;01mif\u001b[39;00m rv \u001b[38;5;129;01min\u001b[39;00m \u001b[38;5;28mself\u001b[39m\u001b[38;5;241m.\u001b[39missue_warning_on:\n\u001b[0;32m    254\u001b[0m     \u001b[38;5;28;01mif\u001b[39;00m session \u001b[38;5;129;01mand\u001b[39;00m rv \u001b[38;5;129;01mnot\u001b[39;00m \u001b[38;5;129;01min\u001b[39;00m \u001b[38;5;28mself\u001b[39m\u001b[38;5;241m.\u001b[39m_ignore_warning_in_session[session]:\n",
      "\u001b[1;31mVisaIOError\u001b[0m: VI_ERROR_RSRC_NFOUND (-1073807343): Insufficient location information or the requested device or resource is not present in the system."
     ]
    }
   ],
   "source": [
    "my_dac = Sp1060(name = 'sp1060',address='TCPIP0::192.168.31.5::23::SOCKET')"
   ]
  },
  {
   "cell_type": "code",
   "execution_count": 8,
   "id": "b6919415",
   "metadata": {
    "ExecuteTime": {
     "end_time": "2023-10-31T14:21:25.518507Z",
     "start_time": "2023-10-31T14:21:25.507434Z"
    }
   },
   "outputs": [
    {
     "data": {
      "text/plain": [
       "[sp1060.ch1 (group=1, id=1, type=DC) output,\n",
       " sp1060.ch2 (group=1, id=2, type=DC) output,\n",
       " sp1060.ch3 (group=1, id=3, type=DC) output,\n",
       " sp1060.ch4 (group=1, id=4, type=DC) output,\n",
       " sp1060.ch5 (group=1, id=5, type=DC) output,\n",
       " sp1060.ch6 (group=1, id=6, type=DC) output,\n",
       " sp1060.ch7 (group=1, id=7, type=DC) output,\n",
       " sp1060.ch8 (group=1, id=8, type=DC) output,\n",
       " sp1060.ch9 (group=1, id=9, type=DC) output,\n",
       " sp1060.ch10 (group=1, id=10, type=DC) output,\n",
       " sp1060.ch11 (group=1, id=11, type=DC) output,\n",
       " sp1060.ch12 (group=1, id=12, type=DC) output,\n",
       " sp1060.ch13 (group=1, id=13, type=DC) output,\n",
       " sp1060.ch14 (group=1, id=14, type=DC) output,\n",
       " sp1060.ch15 (group=1, id=15, type=DC) output,\n",
       " sp1060.ch16 (group=1, id=16, type=DC) output,\n",
       " sp1060.ch17 (group=1, id=17, type=DC) output,\n",
       " sp1060.ch18 (group=1, id=18, type=DC) output,\n",
       " sp1060.ch19 (group=1, id=19, type=DC) output,\n",
       " sp1060.ch20 (group=1, id=20, type=DC) output,\n",
       " sp1060.ch21 (group=1, id=21, type=DC) output,\n",
       " sp1060.ch22 (group=1, id=22, type=DC) output,\n",
       " sp1060.ch23 (group=1, id=23, type=DC) output,\n",
       " sp1060.ch24 (group=1, id=24, type=DC) output]"
      ]
     },
     "execution_count": 8,
     "metadata": {},
     "output_type": "execute_result"
    }
   ],
   "source": [
    "my_dac.channels"
   ]
  },
  {
   "cell_type": "code",
   "execution_count": 9,
   "id": "a50a44af",
   "metadata": {
    "ExecuteTime": {
     "end_time": "2023-10-31T14:21:25.922724Z",
     "start_time": "2023-10-31T14:21:25.914723Z"
    }
   },
   "outputs": [],
   "source": [
    "my_layout=Layout([my_chip, my_dac])"
   ]
  },
  {
   "cell_type": "code",
   "execution_count": 25,
   "id": "ce4bad8a",
   "metadata": {
    "ExecuteTime": {
     "end_time": "2023-10-31T14:22:31.342224Z",
     "start_time": "2023-10-31T14:22:31.165496Z"
    }
   },
   "outputs": [
    {
     "ename": "ValueError",
     "evalue": "The connection already exists",
     "output_type": "error",
     "traceback": [
      "\u001b[1;31m---------------------------------------------------------------------------\u001b[0m",
      "\u001b[1;31mValueError\u001b[0m                                Traceback (most recent call last)",
      "Cell \u001b[1;32mIn[25], line 1\u001b[0m\n\u001b[1;32m----> 1\u001b[0m \u001b[43mmy_layout\u001b[49m\u001b[38;5;241;43m.\u001b[39;49m\u001b[43madd_connection\u001b[49m\u001b[43m(\u001b[49m\u001b[43moutput_arg\u001b[49m\u001b[38;5;241;43m=\u001b[39;49m\u001b[38;5;124;43m'\u001b[39;49m\u001b[38;5;124;43msp1060.ch1\u001b[39;49m\u001b[38;5;124;43m'\u001b[39;49m\u001b[43m,\u001b[49m\u001b[43m \u001b[49m\u001b[43minput_arg\u001b[49m\u001b[38;5;241;43m=\u001b[39;49m\u001b[38;5;124;43m'\u001b[39;49m\u001b[38;5;124;43msaq16.Gate1\u001b[39;49m\u001b[38;5;124;43m'\u001b[39;49m\u001b[43m)\u001b[49m\n",
      "File \u001b[1;32m~\\PycharmProjects\\SQCM\\instrument_interfaces\\interfaces.py:201\u001b[0m, in \u001b[0;36mLayout.add_connection\u001b[1;34m(self, output_arg, input_arg, **kwargs)\u001b[0m\n\u001b[0;32m    199\u001b[0m     \u001b[38;5;28mself\u001b[39m\u001b[38;5;241m.\u001b[39mconnections\u001b[38;5;241m.\u001b[39mappend(connection)\n\u001b[0;32m    200\u001b[0m \u001b[38;5;28;01melse\u001b[39;00m:\n\u001b[1;32m--> 201\u001b[0m     \u001b[38;5;28mprint\u001b[39m(\u001b[38;5;124m'\u001b[39m\u001b[38;5;124mThe connection already exists!\u001b[39m\u001b[38;5;124m'\u001b[39m)\n",
      "\u001b[1;31mValueError\u001b[0m: The connection already exists"
     ]
    }
   ],
   "source": [
    "my_layout.add_connection(output_arg='sp1060.ch1', input_arg='saq16.Gate1')"
   ]
  },
  {
   "cell_type": "code",
   "execution_count": 11,
   "id": "5af24e0f",
   "metadata": {
    "ExecuteTime": {
     "end_time": "2023-10-31T14:21:26.859086Z",
     "start_time": "2023-10-31T14:21:26.847080Z"
    }
   },
   "outputs": [
    {
     "data": {
      "text/plain": [
       "'sp1060.ch1'"
      ]
     },
     "execution_count": 11,
     "metadata": {},
     "output_type": "execute_result"
    }
   ],
   "source": [
    "my_dac.channels[0].channel_name"
   ]
  },
  {
   "cell_type": "code",
   "execution_count": 12,
   "id": "ba6f3d79",
   "metadata": {
    "ExecuteTime": {
     "end_time": "2023-10-31T14:21:27.262904Z",
     "start_time": "2023-10-31T14:21:27.254304Z"
    }
   },
   "outputs": [
    {
     "data": {
      "text/plain": [
       "'saq16.Gate1'"
      ]
     },
     "execution_count": 12,
     "metadata": {},
     "output_type": "execute_result"
    }
   ],
   "source": [
    "my_chip.channels[0].channel_name"
   ]
  },
  {
   "cell_type": "code",
   "execution_count": 23,
   "id": "0a2b7892",
   "metadata": {
    "ExecuteTime": {
     "end_time": "2023-10-31T14:22:25.173467Z",
     "start_time": "2023-10-31T14:22:25.160389Z"
    },
    "scrolled": true
   },
   "outputs": [],
   "source": [
    "my_layout.add_connection_infoes(0, attenuation=10, gain=1, filters=[{'cut_off':10e3, 'type':'powder filter'}])"
   ]
  },
  {
   "cell_type": "code",
   "execution_count": 24,
   "id": "8d536c76",
   "metadata": {
    "ExecuteTime": {
     "end_time": "2023-10-31T14:22:27.130652Z",
     "start_time": "2023-10-31T14:22:27.123652Z"
    }
   },
   "outputs": [
    {
     "data": {
      "text/plain": [
       "[Connection with channels:\n",
       " sp1060.ch1 (group=1, id=1, type=DC) output->\n",
       " saq16.Gate1 (group=1, id=2, type=DC) input->\n",
       " attenuation: 10 dBm, gain: 1 a.u., \n",
       " filter info: [{'cut_off': 10000.0, 'type': 'powder filter'}]]"
      ]
     },
     "execution_count": 24,
     "metadata": {},
     "output_type": "execute_result"
    }
   ],
   "source": [
    "my_layout.connections"
   ]
  },
  {
   "cell_type": "code",
   "execution_count": 15,
   "id": "40c07471",
   "metadata": {
    "ExecuteTime": {
     "end_time": "2023-10-31T14:21:29.592357Z",
     "start_time": "2023-10-31T14:21:29.582152Z"
    }
   },
   "outputs": [
    {
     "data": {
      "text/plain": [
       "{'saq16': saq16 with channels:\n",
       " saq16.Gate1 (group=1, id=2, type=DC) input\n",
       " saq16.Gate2 (group=1, id=4, type=DC) input\n",
       " saq16.Gate3 (group=1, id=1, type=Acq) output,\n",
       " 'sp1060': sp1060 with channels:\n",
       " sp1060.ch1 (group=1, id=1, type=DC) output\n",
       " sp1060.ch2 (group=1, id=2, type=DC) output\n",
       " sp1060.ch3 (group=1, id=3, type=DC) output\n",
       " sp1060.ch4 (group=1, id=4, type=DC) output\n",
       " sp1060.ch5 (group=1, id=5, type=DC) output\n",
       " sp1060.ch6 (group=1, id=6, type=DC) output\n",
       " sp1060.ch7 (group=1, id=7, type=DC) output\n",
       " sp1060.ch8 (group=1, id=8, type=DC) output\n",
       " sp1060.ch9 (group=1, id=9, type=DC) output\n",
       " sp1060.ch10 (group=1, id=10, type=DC) output\n",
       " sp1060.ch11 (group=1, id=11, type=DC) output\n",
       " sp1060.ch12 (group=1, id=12, type=DC) output\n",
       " sp1060.ch13 (group=1, id=13, type=DC) output\n",
       " sp1060.ch14 (group=1, id=14, type=DC) output\n",
       " sp1060.ch15 (group=1, id=15, type=DC) output\n",
       " sp1060.ch16 (group=1, id=16, type=DC) output\n",
       " sp1060.ch17 (group=1, id=17, type=DC) output\n",
       " sp1060.ch18 (group=1, id=18, type=DC) output\n",
       " sp1060.ch19 (group=1, id=19, type=DC) output\n",
       " sp1060.ch20 (group=1, id=20, type=DC) output\n",
       " sp1060.ch21 (group=1, id=21, type=DC) output\n",
       " sp1060.ch22 (group=1, id=22, type=DC) output\n",
       " sp1060.ch23 (group=1, id=23, type=DC) output\n",
       " sp1060.ch24 (group=1, id=24, type=DC) output}"
      ]
     },
     "execution_count": 15,
     "metadata": {},
     "output_type": "execute_result"
    }
   ],
   "source": [
    "my_layout.instrument_interfaces"
   ]
  },
  {
   "cell_type": "code",
   "execution_count": null,
   "id": "39d6f79d",
   "metadata": {},
   "outputs": [],
   "source": []
  }
 ],
 "metadata": {
  "kernelspec": {
   "display_name": "'Python(qcodes)'",
   "language": "python",
   "name": "qcodes"
  },
  "language_info": {
   "codemirror_mode": {
    "name": "ipython",
    "version": 3
   },
   "file_extension": ".py",
   "mimetype": "text/x-python",
   "name": "python",
   "nbconvert_exporter": "python",
   "pygments_lexer": "ipython3",
   "version": "3.9.0"
  },
  "toc": {
   "base_numbering": 1,
   "nav_menu": {},
   "number_sections": true,
   "sideBar": true,
   "skip_h1_title": false,
   "title_cell": "Table of Contents",
   "title_sidebar": "Contents",
   "toc_cell": false,
   "toc_position": {},
   "toc_section_display": true,
   "toc_window_display": false
  }
 },
 "nbformat": 4,
 "nbformat_minor": 5
}
