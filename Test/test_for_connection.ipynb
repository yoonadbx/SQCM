{
 "cells": [
  {
   "cell_type": "code",
   "execution_count": 1,
   "id": "89b3efe4",
   "metadata": {
    "ExecuteTime": {
     "end_time": "2023-11-08T09:07:05.273464Z",
     "start_time": "2023-11-08T09:07:05.262453Z"
    }
   },
   "outputs": [],
   "source": [
    "import sys\n",
    "sys.path.append(r'C:\\Users\\Administrator\\PycharmProjects\\SpinQuantumControlMeasurement')"
   ]
  },
  {
   "cell_type": "code",
   "execution_count": 2,
   "id": "42281083",
   "metadata": {
    "ExecuteTime": {
     "end_time": "2023-11-08T09:07:07.985057Z",
     "start_time": "2023-11-08T09:07:05.582760Z"
    },
    "scrolled": false
   },
   "outputs": [],
   "source": [
    "from instrument_interfaces.interfaces import Connection, Layout\n",
    "from instrument_interfaces.chip_interface import ChipInterface\n",
    "from instrument_interfaces.sp1060_interface import Sp1060\n",
    "from instruments.meta_instruments import *\n",
    "from tools import *\n",
    "from pulses.pulse_sequcences import PulseLine\n",
    "from pulses.pulse_types import *"
   ]
  },
  {
   "cell_type": "code",
   "execution_count": 7,
   "id": "413422a5",
   "metadata": {
    "ExecuteTime": {
     "end_time": "2023-11-08T07:49:08.706319Z",
     "start_time": "2023-11-08T07:49:08.690479Z"
    }
   },
   "outputs": [
    {
     "data": {
      "text/plain": [
       "{'DC': <bound method ConditionType.DC_condition of <class 'instruments.meta_instruments.ConditionType'>>,\n",
       " 'AC': <bound method ConditionType.AC_condition of <class 'instruments.meta_instruments.ConditionType'>>,\n",
       " 'Fast': <bound method ConditionType.Fast_condition of <class 'instruments.meta_instruments.ConditionType'>>,\n",
       " 'Acq': <bound method ConditionType.Acq_condition of <class 'instruments.meta_instruments.ConditionType'>>}"
      ]
     },
     "execution_count": 7,
     "metadata": {},
     "output_type": "execute_result"
    }
   ],
   "source": [
    "ConditionType.collection_conditions"
   ]
  },
  {
   "cell_type": "code",
   "execution_count": 3,
   "id": "e578eee6",
   "metadata": {
    "ExecuteTime": {
     "end_time": "2023-11-08T09:07:08.001073Z",
     "start_time": "2023-11-08T09:07:07.987060Z"
    }
   },
   "outputs": [
    {
     "data": {
      "text/plain": [
       "{'DC': <bound method ConditionType.DC_condition of <class 'instruments.meta_instruments.ConditionType'>>,\n",
       " 'AC': <bound method ConditionType.AC_condition of <class 'instruments.meta_instruments.ConditionType'>>,\n",
       " 'Fast': <bound method ConditionType.Fast_condition of <class 'instruments.meta_instruments.ConditionType'>>,\n",
       " 'Acq': <bound method ConditionType.Acq_condition of <class 'instruments.meta_instruments.ConditionType'>>}"
      ]
     },
     "execution_count": 3,
     "metadata": {},
     "output_type": "execute_result"
    }
   ],
   "source": [
    "ConditionType.collection_conditions()"
   ]
  },
  {
   "cell_type": "code",
   "execution_count": 4,
   "id": "18e36d2f",
   "metadata": {
    "ExecuteTime": {
     "end_time": "2023-11-08T09:07:08.010082Z",
     "start_time": "2023-11-08T09:07:08.005078Z"
    }
   },
   "outputs": [],
   "source": [
    "chip_infoes = [{'channel_name':'Gate1','channel_num':2,'channel_type':'DC','group':1,'Input':True,'low':-1,'high':1}, \n",
    "               {'channel_name':'Gate2','channel_num':4,'channel_type':'DC','group':1,'Input':True,'low':-1,'high':1},\n",
    "              {'channel_name':'Gate3','channel_num':1,'channel_type':'Acq','group':1,'Input':False,'max_memory_size':1e8}]\n",
    "my_chip = ChipInterface('saq16', chip_infoes)"
   ]
  },
  {
   "cell_type": "code",
   "execution_count": 5,
   "id": "ae19771a",
   "metadata": {
    "ExecuteTime": {
     "end_time": "2023-11-08T09:07:08.025096Z",
     "start_time": "2023-11-08T09:07:08.014087Z"
    }
   },
   "outputs": [
    {
     "name": "stdout",
     "output_type": "stream",
     "text": [
      "The channel saq16.Gate1 (group=1, id=2, type=DC) input already exists!\n"
     ]
    }
   ],
   "source": [
    "my_chip.add_channel('Gate1', channel_num=2, channel_type='DC', Input=True, group=1, low=-1, high=1)"
   ]
  },
  {
   "cell_type": "code",
   "execution_count": 6,
   "id": "0812d1c0",
   "metadata": {
    "ExecuteTime": {
     "end_time": "2023-11-08T09:07:08.033103Z",
     "start_time": "2023-11-08T09:07:08.027098Z"
    }
   },
   "outputs": [
    {
     "data": {
      "text/plain": [
       "[saq16.Gate1 (group=1, id=2, type=DC) input,\n",
       " saq16.Gate2 (group=1, id=4, type=DC) input,\n",
       " saq16.Gate3 (group=1, id=1, type=Acq) output]"
      ]
     },
     "execution_count": 6,
     "metadata": {},
     "output_type": "execute_result"
    }
   ],
   "source": [
    "my_chip.channels"
   ]
  },
  {
   "cell_type": "code",
   "execution_count": 7,
   "id": "d5c518b7",
   "metadata": {
    "ExecuteTime": {
     "end_time": "2023-11-08T09:07:08.226288Z",
     "start_time": "2023-11-08T09:07:08.036107Z"
    }
   },
   "outputs": [],
   "source": [
    "my_dac = Sp1060(name = 'sp1060',address='TCPIP0::192.168.31.5::23::SOCKET')"
   ]
  },
  {
   "cell_type": "code",
   "execution_count": 8,
   "id": "b6919415",
   "metadata": {
    "ExecuteTime": {
     "end_time": "2023-11-08T09:07:08.234296Z",
     "start_time": "2023-11-08T09:07:08.228290Z"
    }
   },
   "outputs": [
    {
     "data": {
      "text/plain": [
       "[sp1060.Ch1 (group=1, id=1, type=DC) output,\n",
       " sp1060.Ch2 (group=1, id=2, type=DC) output,\n",
       " sp1060.Ch3 (group=1, id=3, type=DC) output,\n",
       " sp1060.Ch4 (group=1, id=4, type=DC) output,\n",
       " sp1060.Ch5 (group=1, id=5, type=DC) output,\n",
       " sp1060.Ch6 (group=1, id=6, type=DC) output,\n",
       " sp1060.Ch7 (group=1, id=7, type=DC) output,\n",
       " sp1060.Ch8 (group=1, id=8, type=DC) output,\n",
       " sp1060.Ch9 (group=1, id=9, type=DC) output,\n",
       " sp1060.Ch10 (group=1, id=10, type=DC) output,\n",
       " sp1060.Ch11 (group=1, id=11, type=DC) output,\n",
       " sp1060.Ch12 (group=1, id=12, type=DC) output,\n",
       " sp1060.Ch13 (group=1, id=13, type=DC) output,\n",
       " sp1060.Ch14 (group=1, id=14, type=DC) output,\n",
       " sp1060.Ch15 (group=1, id=15, type=DC) output,\n",
       " sp1060.Ch16 (group=1, id=16, type=DC) output,\n",
       " sp1060.Ch17 (group=1, id=17, type=DC) output,\n",
       " sp1060.Ch18 (group=1, id=18, type=DC) output,\n",
       " sp1060.Ch19 (group=1, id=19, type=DC) output,\n",
       " sp1060.Ch20 (group=1, id=20, type=DC) output,\n",
       " sp1060.Ch21 (group=1, id=21, type=DC) output,\n",
       " sp1060.Ch22 (group=1, id=22, type=DC) output,\n",
       " sp1060.Ch23 (group=1, id=23, type=DC) output,\n",
       " sp1060.Ch24 (group=1, id=24, type=DC) output]"
      ]
     },
     "execution_count": 8,
     "metadata": {},
     "output_type": "execute_result"
    }
   ],
   "source": [
    "my_dac.channels"
   ]
  },
  {
   "cell_type": "code",
   "execution_count": 9,
   "id": "a50a44af",
   "metadata": {
    "ExecuteTime": {
     "end_time": "2023-11-08T09:07:08.240301Z",
     "start_time": "2023-11-08T09:07:08.236298Z"
    }
   },
   "outputs": [],
   "source": [
    "my_layout=Layout([my_chip, my_dac])"
   ]
  },
  {
   "cell_type": "code",
   "execution_count": 10,
   "id": "ce4bad8a",
   "metadata": {
    "ExecuteTime": {
     "end_time": "2023-11-08T09:07:08.246308Z",
     "start_time": "2023-11-08T09:07:08.242304Z"
    }
   },
   "outputs": [],
   "source": [
    "my_layout.add_connection(output_arg='sp1060.Ch1', input_arg='saq16.Gate1')"
   ]
  },
  {
   "cell_type": "code",
   "execution_count": 11,
   "id": "5af24e0f",
   "metadata": {
    "ExecuteTime": {
     "end_time": "2023-11-08T09:07:08.255317Z",
     "start_time": "2023-11-08T09:07:08.249310Z"
    }
   },
   "outputs": [
    {
     "data": {
      "text/plain": [
       "'sp1060.Ch1'"
      ]
     },
     "execution_count": 11,
     "metadata": {},
     "output_type": "execute_result"
    }
   ],
   "source": [
    "my_dac.channels[0].channel_name"
   ]
  },
  {
   "cell_type": "code",
   "execution_count": 12,
   "id": "ba6f3d79",
   "metadata": {
    "ExecuteTime": {
     "end_time": "2023-11-08T09:07:08.266331Z",
     "start_time": "2023-11-08T09:07:08.258320Z"
    }
   },
   "outputs": [
    {
     "data": {
      "text/plain": [
       "'saq16.Gate1'"
      ]
     },
     "execution_count": 12,
     "metadata": {},
     "output_type": "execute_result"
    }
   ],
   "source": [
    "my_chip.channels[0].channel_name"
   ]
  },
  {
   "cell_type": "code",
   "execution_count": 13,
   "id": "0a2b7892",
   "metadata": {
    "ExecuteTime": {
     "end_time": "2023-11-08T09:07:08.276336Z",
     "start_time": "2023-11-08T09:07:08.271333Z"
    },
    "scrolled": true
   },
   "outputs": [],
   "source": [
    "my_layout.add_connection_infoes(0, attenuation=10, gain=1, filters=[{'cut_off':10e3, 'type':'powder filter'}])"
   ]
  },
  {
   "cell_type": "code",
   "execution_count": 14,
   "id": "8d536c76",
   "metadata": {
    "ExecuteTime": {
     "end_time": "2023-11-08T09:07:08.284344Z",
     "start_time": "2023-11-08T09:07:08.279340Z"
    }
   },
   "outputs": [
    {
     "data": {
      "text/plain": [
       "[Connection with channels:\n",
       " sp1060.Ch1 (group=1, id=1, type=DC) output->\n",
       " saq16.Gate1 (group=1, id=2, type=DC) input->\n",
       " attenuation: 10 dBm, gain: 1 a.u., \n",
       " filter info: [{'cut_off': 10000.0, 'type': 'powder filter'}]]"
      ]
     },
     "execution_count": 14,
     "metadata": {},
     "output_type": "execute_result"
    }
   ],
   "source": [
    "my_layout.connections"
   ]
  },
  {
   "cell_type": "code",
   "execution_count": 15,
   "id": "40c07471",
   "metadata": {
    "ExecuteTime": {
     "end_time": "2023-11-08T09:07:08.323381Z",
     "start_time": "2023-11-08T09:07:08.311370Z"
    }
   },
   "outputs": [
    {
     "data": {
      "text/plain": [
       "{'saq16': saq16 with channels:\n",
       " saq16.Gate1 (group=1, id=2, type=DC) input\n",
       " saq16.Gate2 (group=1, id=4, type=DC) input\n",
       " saq16.Gate3 (group=1, id=1, type=Acq) output,\n",
       " 'sp1060': sp1060 with channels:\n",
       " sp1060.Ch1 (group=1, id=1, type=DC) output\n",
       " sp1060.Ch2 (group=1, id=2, type=DC) output\n",
       " sp1060.Ch3 (group=1, id=3, type=DC) output\n",
       " sp1060.Ch4 (group=1, id=4, type=DC) output\n",
       " sp1060.Ch5 (group=1, id=5, type=DC) output\n",
       " sp1060.Ch6 (group=1, id=6, type=DC) output\n",
       " sp1060.Ch7 (group=1, id=7, type=DC) output\n",
       " sp1060.Ch8 (group=1, id=8, type=DC) output\n",
       " sp1060.Ch9 (group=1, id=9, type=DC) output\n",
       " sp1060.Ch10 (group=1, id=10, type=DC) output\n",
       " sp1060.Ch11 (group=1, id=11, type=DC) output\n",
       " sp1060.Ch12 (group=1, id=12, type=DC) output\n",
       " sp1060.Ch13 (group=1, id=13, type=DC) output\n",
       " sp1060.Ch14 (group=1, id=14, type=DC) output\n",
       " sp1060.Ch15 (group=1, id=15, type=DC) output\n",
       " sp1060.Ch16 (group=1, id=16, type=DC) output\n",
       " sp1060.Ch17 (group=1, id=17, type=DC) output\n",
       " sp1060.Ch18 (group=1, id=18, type=DC) output\n",
       " sp1060.Ch19 (group=1, id=19, type=DC) output\n",
       " sp1060.Ch20 (group=1, id=20, type=DC) output\n",
       " sp1060.Ch21 (group=1, id=21, type=DC) output\n",
       " sp1060.Ch22 (group=1, id=22, type=DC) output\n",
       " sp1060.Ch23 (group=1, id=23, type=DC) output\n",
       " sp1060.Ch24 (group=1, id=24, type=DC) output}"
      ]
     },
     "execution_count": 15,
     "metadata": {},
     "output_type": "execute_result"
    }
   ],
   "source": [
    "my_layout.instrument_interfaces"
   ]
  },
  {
   "cell_type": "code",
   "execution_count": 16,
   "id": "39d6f79d",
   "metadata": {
    "ExecuteTime": {
     "end_time": "2023-11-08T09:07:08.512563Z",
     "start_time": "2023-11-08T09:07:08.503554Z"
    }
   },
   "outputs": [
    {
     "data": {
      "text/plain": [
       "array([-1.e-06, -1.e-06, -1.e-06, -1.e-06, -1.e-06, -1.e-06, -1.e-06,\n",
       "       -1.e-06, -1.e-06, -1.e-06, -1.e-06, -1.e-06, -1.e-06, -1.e-06,\n",
       "       -1.e-06, -1.e-06, -1.e-06, -1.e-06, -1.e-06, -1.e-06, -1.e-06,\n",
       "       -1.e-06, -1.e-06, -1.e-06])"
      ]
     },
     "execution_count": 16,
     "metadata": {},
     "output_type": "execute_result"
    }
   ],
   "source": [
    "my_dac.instrument.all_ch_voltage()"
   ]
  },
  {
   "cell_type": "code",
   "execution_count": 17,
   "id": "e5e7068b",
   "metadata": {
    "ExecuteTime": {
     "end_time": "2023-11-08T09:07:08.722763Z",
     "start_time": "2023-11-08T09:07:08.717758Z"
    }
   },
   "outputs": [],
   "source": [
    "pulse_line1 = PulseLine(name='Gate5', connection=my_layout.connections[0], t_start=0)"
   ]
  },
  {
   "cell_type": "code",
   "execution_count": 18,
   "id": "c4a252bd",
   "metadata": {
    "ExecuteTime": {
     "end_time": "2023-11-08T09:07:08.946977Z",
     "start_time": "2023-11-08T09:07:08.941973Z"
    }
   },
   "outputs": [],
   "source": [
    "read = DCPulse(name='read', amplitude=0.2, sender = 'sp1060.Ch1', acceptor='chip.Gate1', t_start=0, duration=1e-3)\n",
    "control = DCPulse(name='control', amplitude=0.4, sender = 'sp1060.Ch1', acceptor='chip.Gate1', t_start=0, duration=1e-3)"
   ]
  },
  {
   "cell_type": "code",
   "execution_count": 19,
   "id": "d78a0528",
   "metadata": {
    "ExecuteTime": {
     "end_time": "2023-11-08T09:07:09.203227Z",
     "start_time": "2023-11-08T09:07:09.198217Z"
    }
   },
   "outputs": [],
   "source": [
    "pulse_line1.add_pulse_element('spin_readout_Gate2', [read, control], delay=40e-3, repeat=10)"
   ]
  },
  {
   "cell_type": "code",
   "execution_count": 20,
   "id": "8edc8d47",
   "metadata": {
    "ExecuteTime": {
     "end_time": "2023-11-08T09:07:09.659660Z",
     "start_time": "2023-11-08T09:07:09.654655Z"
    }
   },
   "outputs": [
    {
     "data": {
      "text/plain": [
       "{'init_pulse': [],\n",
       " 'spin_readout_Gate2': [0.04, Pulse info\n",
       "   \tpulse class: DCPulse\n",
       "   \tname: read\n",
       "   \tid: 2398808860096\n",
       "   \tsender: sp1060.Ch1\n",
       "   \tacceptor: chip.Gate1\n",
       "   \tamplitude: 0.2, Pulse info\n",
       "   \tpulse class: DCPulse\n",
       "   \tname: control\n",
       "   \tid: 2398808860152\n",
       "   \tsender: sp1060.Ch1\n",
       "   \tacceptor: chip.Gate1\n",
       "   \tamplitude: 0.4, 10]}"
      ]
     },
     "execution_count": 20,
     "metadata": {},
     "output_type": "execute_result"
    }
   ],
   "source": [
    "pulse_line1.pulse_elements"
   ]
  },
  {
   "cell_type": "code",
   "execution_count": 21,
   "id": "a3289a09",
   "metadata": {
    "ExecuteTime": {
     "end_time": "2023-11-08T09:07:10.122102Z",
     "start_time": "2023-11-08T09:07:10.118098Z"
    }
   },
   "outputs": [],
   "source": [
    "pulse_line1.add_pulse_element('spin_readout_Gate1', [read, control], delay=40e-3, repeat=10)"
   ]
  },
  {
   "cell_type": "code",
   "execution_count": 22,
   "id": "bce82e11",
   "metadata": {
    "ExecuteTime": {
     "end_time": "2023-11-08T09:07:10.625584Z",
     "start_time": "2023-11-08T09:07:10.622581Z"
    }
   },
   "outputs": [],
   "source": [
    "pulse_line1.add_pulse_elements_to_pulse_line([0,1,2])"
   ]
  },
  {
   "cell_type": "code",
   "execution_count": 23,
   "id": "7de7e926",
   "metadata": {
    "ExecuteTime": {
     "end_time": "2023-11-08T09:07:11.113050Z",
     "start_time": "2023-11-08T09:07:11.110046Z"
    }
   },
   "outputs": [],
   "source": [
    "pulse_line1.get_time_line()"
   ]
  },
  {
   "cell_type": "code",
   "execution_count": 31,
   "id": "e7e836e2",
   "metadata": {
    "ExecuteTime": {
     "end_time": "2023-11-08T09:15:55.233419Z",
     "start_time": "2023-11-08T09:15:55.229415Z"
    }
   },
   "outputs": [],
   "source": [
    "pulse_line1.remove_pulse_elements_from_pulse_line('spin_readout_Gate2')"
   ]
  },
  {
   "cell_type": "code",
   "execution_count": 32,
   "id": "2aac32ab",
   "metadata": {
    "ExecuteTime": {
     "end_time": "2023-11-08T09:16:06.450149Z",
     "start_time": "2023-11-08T09:16:06.445144Z"
    }
   },
   "outputs": [
    {
     "data": {
      "text/plain": [
       "[[],\n",
       " [0.04, Pulse info\n",
       "   \tpulse class: DCPulse\n",
       "   \tname: read\n",
       "   \tid: 2398808860096\n",
       "   \tsender: sp1060.Ch1\n",
       "   \tacceptor: chip.Gate1\n",
       "   \tamplitude: 0.2, Pulse info\n",
       "   \tpulse class: DCPulse\n",
       "   \tname: control\n",
       "   \tid: 2398808860152\n",
       "   \tsender: sp1060.Ch1\n",
       "   \tacceptor: chip.Gate1\n",
       "   \tamplitude: 0.4, 10]]"
      ]
     },
     "execution_count": 32,
     "metadata": {},
     "output_type": "execute_result"
    }
   ],
   "source": [
    "pulse_line1.pulse_line"
   ]
  },
  {
   "cell_type": "code",
   "execution_count": null,
   "id": "f07a6ec1",
   "metadata": {},
   "outputs": [],
   "source": []
  }
 ],
 "metadata": {
  "kernelspec": {
   "display_name": "PyCharm (SpinQuantumControlMeasurement)",
   "language": "python",
   "name": "pycharm-6e0f8de9"
  },
  "language_info": {
   "codemirror_mode": {
    "name": "ipython",
    "version": 3
   },
   "file_extension": ".py",
   "mimetype": "text/x-python",
   "name": "python",
   "nbconvert_exporter": "python",
   "pygments_lexer": "ipython3",
   "version": "3.7.0"
  },
  "toc": {
   "base_numbering": 1,
   "nav_menu": {},
   "number_sections": true,
   "sideBar": true,
   "skip_h1_title": false,
   "title_cell": "Table of Contents",
   "title_sidebar": "Contents",
   "toc_cell": false,
   "toc_position": {},
   "toc_section_display": true,
   "toc_window_display": false
  }
 },
 "nbformat": 4,
 "nbformat_minor": 5
}
